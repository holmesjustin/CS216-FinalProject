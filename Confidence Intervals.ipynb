{
 "cells": [
  {
   "cell_type": "code",
   "execution_count": 1,
   "metadata": {},
   "outputs": [],
   "source": [
    "import numpy as np\n",
    "import pandas as pd\n",
    "from scipy import stats"
   ]
  },
  {
   "cell_type": "markdown",
   "metadata": {},
   "source": [
    "# What we're doing\n",
    "We're going to create a 95% confidence interval for the mean heigt and mean average experience for tournament-caliber teams and non-tournament-caliber teams, and see if there's any overlap."
   ]
  },
  {
   "cell_type": "markdown",
   "metadata": {},
   "source": [
    "## 2013 - Height"
   ]
  },
  {
   "cell_type": "code",
   "execution_count": 2,
   "metadata": {
    "scrolled": true
   },
   "outputs": [
    {
     "data": {
      "text/html": [
       "<div>\n",
       "<style scoped>\n",
       "    .dataframe tbody tr th:only-of-type {\n",
       "        vertical-align: middle;\n",
       "    }\n",
       "\n",
       "    .dataframe tbody tr th {\n",
       "        vertical-align: top;\n",
       "    }\n",
       "\n",
       "    .dataframe thead th {\n",
       "        text-align: right;\n",
       "    }\n",
       "</style>\n",
       "<table border=\"1\" class=\"dataframe\">\n",
       "  <thead>\n",
       "    <tr style=\"text-align: right;\">\n",
       "      <th></th>\n",
       "      <th>School</th>\n",
       "      <th>Avg_Height</th>\n",
       "      <th>Avg_Experience</th>\n",
       "      <th>Postseason</th>\n",
       "    </tr>\n",
       "  </thead>\n",
       "  <tbody>\n",
       "    <tr>\n",
       "      <th>0</th>\n",
       "      <td>air force</td>\n",
       "      <td>77.0</td>\n",
       "      <td>2.2</td>\n",
       "      <td>0</td>\n",
       "    </tr>\n",
       "    <tr>\n",
       "      <th>1</th>\n",
       "      <td>akron</td>\n",
       "      <td>78.0</td>\n",
       "      <td>1.7</td>\n",
       "      <td>1</td>\n",
       "    </tr>\n",
       "    <tr>\n",
       "      <th>2</th>\n",
       "      <td>alabama</td>\n",
       "      <td>77.0</td>\n",
       "      <td>1.2</td>\n",
       "      <td>0</td>\n",
       "    </tr>\n",
       "    <tr>\n",
       "      <th>3</th>\n",
       "      <td>alabama am</td>\n",
       "      <td>75.0</td>\n",
       "      <td>1.4</td>\n",
       "      <td>0</td>\n",
       "    </tr>\n",
       "    <tr>\n",
       "      <th>4</th>\n",
       "      <td>alabama state</td>\n",
       "      <td>75.0</td>\n",
       "      <td>1.1</td>\n",
       "      <td>0</td>\n",
       "    </tr>\n",
       "  </tbody>\n",
       "</table>\n",
       "</div>"
      ],
      "text/plain": [
       "          School  Avg_Height  Avg_Experience  Postseason\n",
       "0      air force        77.0             2.2           0\n",
       "1          akron        78.0             1.7           1\n",
       "2        alabama        77.0             1.2           0\n",
       "3     alabama am        75.0             1.4           0\n",
       "4  alabama state        75.0             1.1           0"
      ]
     },
     "execution_count": 2,
     "metadata": {},
     "output_type": "execute_result"
    }
   ],
   "source": [
    "data13 = pd.read_csv(\"2013_CLEAN_with_postseason.csv\")\n",
    "data13.head()"
   ]
  },
  {
   "cell_type": "code",
   "execution_count": 3,
   "metadata": {},
   "outputs": [],
   "source": [
    "tournament_heights13 = data13[data13[\"Postseason\"] == 1][\"Avg_Height\"].values.tolist()\n",
    "nontournament_heights13 = data13[data13[\"Postseason\"] == 0][\"Avg_Height\"].values.tolist()"
   ]
  },
  {
   "cell_type": "code",
   "execution_count": 4,
   "metadata": {},
   "outputs": [
    {
     "name": "stdout",
     "output_type": "stream",
     "text": [
      "Bootstrapped 95% confidence interval for 2013 tournament teams = (77.06060606060606, 77.43939393939394)\n"
     ]
    }
   ],
   "source": [
    "# Bootstrapping for 2013 tournament teams\n",
    "\n",
    "np.random.seed(703)\n",
    "num_bootstraps = 10000\n",
    "tourney_bootstrap_heights_samples13 = np.random.choice(tournament_heights13, size = (num_bootstraps, len(tournament_heights13)), replace = True)\n",
    "tourney_sampling_heights_means13 = np.average(tourney_bootstrap_heights_samples13, axis=1)\n",
    "bootstrap_tourney_heights_ci_l13 = np.percentile(tourney_sampling_heights_means13, 2.5)\n",
    "bootstrap_tourney_heights_ci_r13 = np.percentile(tourney_sampling_heights_means13, 97.5)\n",
    "print(\"Bootstrapped 95% confidence interval for 2013 tournament teams =\", (bootstrap_tourney_heights_ci_l13, bootstrap_tourney_heights_ci_r13))"
   ]
  },
  {
   "cell_type": "code",
   "execution_count": 5,
   "metadata": {
    "scrolled": true
   },
   "outputs": [
    {
     "name": "stdout",
     "output_type": "stream",
     "text": [
      "Bootstrapped 95% confidence interval for 2013 non-tournament teams = (76.42962962962963, 76.65555555555555)\n"
     ]
    }
   ],
   "source": [
    "# Bootstrapping for 2013 non-tournament teams\n",
    "\n",
    "np.random.seed(703)\n",
    "nontourney_bootstrap_heights_samples13 = np.random.choice(nontournament_heights13, size = (num_bootstraps, len(nontournament_heights13)), replace = True)\n",
    "nontourney_sampling_heights_means13 = np.average(nontourney_bootstrap_heights_samples13, axis=1)\n",
    "bootstrap_nontourney_heights_ci_l13 = np.percentile(nontourney_sampling_heights_means13, 2.5)\n",
    "bootstrap_nontourney_heights_ci_r13 = np.percentile(nontourney_sampling_heights_means13, 97.5)\n",
    "print(\"Bootstrapped 95% confidence interval for 2013 non-tournament teams =\", (bootstrap_nontourney_heights_ci_l13, bootstrap_nontourney_heights_ci_r13))"
   ]
  },
  {
   "cell_type": "markdown",
   "metadata": {},
   "source": [
    "For 2013, we are 95% confident that the true mean height of tournament teams, in inches, is between 77.06 and 77.44. We are also 95% confident that the true mean height of non-tournament teams, in inches, is between 76.43 and 76.66."
   ]
  },
  {
   "cell_type": "markdown",
   "metadata": {},
   "source": [
    "## 2013 - Average Experience"
   ]
  },
  {
   "cell_type": "code",
   "execution_count": 6,
   "metadata": {},
   "outputs": [],
   "source": [
    "tournament_exp13 = data13[data13[\"Postseason\"] == 1][\"Avg_Experience\"].values.tolist()\n",
    "nontournament_exp13 = data13[data13[\"Postseason\"] == 0][\"Avg_Experience\"].values.tolist()"
   ]
  },
  {
   "cell_type": "code",
   "execution_count": 7,
   "metadata": {},
   "outputs": [
    {
     "name": "stdout",
     "output_type": "stream",
     "text": [
      "Bootstrapped 95% confidence interval for 2013 tournament teams = (1.602992424242424, 1.7954545454545454)\n"
     ]
    }
   ],
   "source": [
    "# Bootstrapping for 2013 tournament teams\n",
    "\n",
    "np.random.seed(703)\n",
    "tourney_bootstrap_exp_samples13 = np.random.choice(tournament_exp13, size = (num_bootstraps, len(tournament_exp13)), replace = True)\n",
    "tourney_sampling_exp_means13 = np.average(tourney_bootstrap_exp_samples13, axis=1)\n",
    "bootstrap_tourney_exp_ci_l13 = np.percentile(tourney_sampling_exp_means13, 2.5)\n",
    "bootstrap_tourney_exp_ci_r13 = np.percentile(tourney_sampling_exp_means13, 97.5)\n",
    "print(\"Bootstrapped 95% confidence interval for 2013 tournament teams =\", (bootstrap_tourney_exp_ci_l13, bootstrap_tourney_exp_ci_r13))"
   ]
  },
  {
   "cell_type": "code",
   "execution_count": 8,
   "metadata": {},
   "outputs": [
    {
     "name": "stdout",
     "output_type": "stream",
     "text": [
      "Bootstrapped 95% confidence interval for 2013 non-tournament teams = (1.2896203703703704, 1.394814814814815)\n"
     ]
    }
   ],
   "source": [
    "# Bootstrapping for 2013 non-tournament teams\n",
    "\n",
    "np.random.seed(703)\n",
    "nontourney_bootstrap_exp_samples13 = np.random.choice(nontournament_exp13, size = (num_bootstraps, len(nontournament_exp13)), replace = True)\n",
    "nontourney_sampling_exp_means13 = np.average(nontourney_bootstrap_exp_samples13, axis=1)\n",
    "bootstrap_nontourney_exp_ci_l13 = np.percentile(nontourney_sampling_exp_means13, 2.5)\n",
    "bootstrap_nontourney_exp_ci_r13 = np.percentile(nontourney_sampling_exp_means13, 97.5)\n",
    "print(\"Bootstrapped 95% confidence interval for 2013 non-tournament teams =\", (bootstrap_nontourney_exp_ci_l13, bootstrap_nontourney_exp_ci_r13))"
   ]
  },
  {
   "cell_type": "markdown",
   "metadata": {},
   "source": [
    "For 2013, we are 95% confident that the true mean average experience of tournament teams is between 1.60 and 1.80. We are also 95% confident that the true mean average experience of non-tournament teams is between 1.29 and 1.39."
   ]
  },
  {
   "cell_type": "markdown",
   "metadata": {},
   "source": [
    "## 2014 - Height"
   ]
  },
  {
   "cell_type": "code",
   "execution_count": 9,
   "metadata": {
    "scrolled": true
   },
   "outputs": [
    {
     "data": {
      "text/html": [
       "<div>\n",
       "<style scoped>\n",
       "    .dataframe tbody tr th:only-of-type {\n",
       "        vertical-align: middle;\n",
       "    }\n",
       "\n",
       "    .dataframe tbody tr th {\n",
       "        vertical-align: top;\n",
       "    }\n",
       "\n",
       "    .dataframe thead th {\n",
       "        text-align: right;\n",
       "    }\n",
       "</style>\n",
       "<table border=\"1\" class=\"dataframe\">\n",
       "  <thead>\n",
       "    <tr style=\"text-align: right;\">\n",
       "      <th></th>\n",
       "      <th>School</th>\n",
       "      <th>Avg_Height</th>\n",
       "      <th>Avg_Experience</th>\n",
       "      <th>Postseason</th>\n",
       "    </tr>\n",
       "  </thead>\n",
       "  <tbody>\n",
       "    <tr>\n",
       "      <th>0</th>\n",
       "      <td>abilene christian</td>\n",
       "      <td>75.0</td>\n",
       "      <td>0.1</td>\n",
       "      <td>0</td>\n",
       "    </tr>\n",
       "    <tr>\n",
       "      <th>1</th>\n",
       "      <td>air force</td>\n",
       "      <td>77.0</td>\n",
       "      <td>1.5</td>\n",
       "      <td>0</td>\n",
       "    </tr>\n",
       "    <tr>\n",
       "      <th>2</th>\n",
       "      <td>akron</td>\n",
       "      <td>78.0</td>\n",
       "      <td>1.5</td>\n",
       "      <td>0</td>\n",
       "    </tr>\n",
       "    <tr>\n",
       "      <th>3</th>\n",
       "      <td>alabama</td>\n",
       "      <td>77.0</td>\n",
       "      <td>1.5</td>\n",
       "      <td>0</td>\n",
       "    </tr>\n",
       "    <tr>\n",
       "      <th>4</th>\n",
       "      <td>alabama am</td>\n",
       "      <td>75.0</td>\n",
       "      <td>2.1</td>\n",
       "      <td>0</td>\n",
       "    </tr>\n",
       "  </tbody>\n",
       "</table>\n",
       "</div>"
      ],
      "text/plain": [
       "              School  Avg_Height  Avg_Experience  Postseason\n",
       "0  abilene christian        75.0             0.1           0\n",
       "1          air force        77.0             1.5           0\n",
       "2              akron        78.0             1.5           0\n",
       "3            alabama        77.0             1.5           0\n",
       "4         alabama am        75.0             2.1           0"
      ]
     },
     "execution_count": 9,
     "metadata": {},
     "output_type": "execute_result"
    }
   ],
   "source": [
    "data14 = pd.read_csv(\"2014_CLEAN_with_postseason.csv\")\n",
    "data14.head()"
   ]
  },
  {
   "cell_type": "code",
   "execution_count": 10,
   "metadata": {},
   "outputs": [],
   "source": [
    "tournament_heights14 = data14[data14[\"Postseason\"] == 1][\"Avg_Height\"].values.tolist()\n",
    "nontournament_heights14 = data14[data14[\"Postseason\"] == 0][\"Avg_Height\"].values.tolist()"
   ]
  },
  {
   "cell_type": "code",
   "execution_count": 11,
   "metadata": {},
   "outputs": [
    {
     "name": "stdout",
     "output_type": "stream",
     "text": [
      "Bootstrapped 95% confidence interval for 2014 tournament teams = (77.07462686567165, 77.4776119402985)\n"
     ]
    }
   ],
   "source": [
    "# Bootstrapping for 2014 tournament teams\n",
    "\n",
    "np.random.seed(703)\n",
    "num_bootstraps = 10000\n",
    "tourney_bootstrap_heights_samples14 = np.random.choice(tournament_heights14, size = (num_bootstraps, len(tournament_heights14)), replace = True)\n",
    "tourney_sampling_heights_means14 = np.average(tourney_bootstrap_heights_samples14, axis=1)\n",
    "bootstrap_tourney_heights_ci_l14 = np.percentile(tourney_sampling_heights_means14, 2.5)\n",
    "bootstrap_tourney_heights_ci_r14 = np.percentile(tourney_sampling_heights_means14, 97.5)\n",
    "print(\"Bootstrapped 95% confidence interval for 2014 tournament teams =\", (bootstrap_tourney_heights_ci_l14, bootstrap_tourney_heights_ci_r14))"
   ]
  },
  {
   "cell_type": "code",
   "execution_count": 12,
   "metadata": {
    "scrolled": true
   },
   "outputs": [
    {
     "name": "stdout",
     "output_type": "stream",
     "text": [
      "Bootstrapped 95% confidence interval for 2014 non-tournament teams = (76.4981684981685, 76.71428571428571)\n"
     ]
    }
   ],
   "source": [
    "# Bootstrapping for 2014 non-tournament teams\n",
    "\n",
    "np.random.seed(703)\n",
    "nontourney_bootstrap_heights_samples14 = np.random.choice(nontournament_heights14, size = (num_bootstraps, len(nontournament_heights14)), replace = True)\n",
    "nontourney_sampling_heights_means14 = np.average(nontourney_bootstrap_heights_samples14, axis=1)\n",
    "bootstrap_nontourney_heights_ci_l14 = np.percentile(nontourney_sampling_heights_means14, 2.5)\n",
    "bootstrap_nontourney_heights_ci_r14 = np.percentile(nontourney_sampling_heights_means14, 97.5)\n",
    "print(\"Bootstrapped 95% confidence interval for 2014 non-tournament teams =\", (bootstrap_nontourney_heights_ci_l14, bootstrap_nontourney_heights_ci_r14))"
   ]
  },
  {
   "cell_type": "markdown",
   "metadata": {},
   "source": [
    "For 2014, we are 95% confident that the true mean height of tournament teams, in inches, is between 77.07 and 77.48. We are also 95% confident that the true mean height of non-tournament teams, in inches, is between 76.49 and 76.71."
   ]
  },
  {
   "cell_type": "markdown",
   "metadata": {},
   "source": [
    "## 2014 - Average Experience"
   ]
  },
  {
   "cell_type": "code",
   "execution_count": 13,
   "metadata": {},
   "outputs": [],
   "source": [
    "tournament_exp14 = data14[data14[\"Postseason\"] == 1][\"Avg_Experience\"].values.tolist()\n",
    "nontournament_exp14 = data14[data14[\"Postseason\"] == 0][\"Avg_Experience\"].values.tolist()"
   ]
  },
  {
   "cell_type": "code",
   "execution_count": 14,
   "metadata": {},
   "outputs": [
    {
     "name": "stdout",
     "output_type": "stream",
     "text": [
      "Bootstrapped 95% confidence interval for 2014 tournament teams = (1.5, 1.717910447761194)\n"
     ]
    }
   ],
   "source": [
    "# Bootstrapping for 2014 tournament teams\n",
    "\n",
    "np.random.seed(703)\n",
    "tourney_bootstrap_exp_samples14 = np.random.choice(tournament_exp14, size = (num_bootstraps, len(tournament_exp14)), replace = True)\n",
    "tourney_sampling_exp_means14 = np.average(tourney_bootstrap_exp_samples14, axis=1)\n",
    "bootstrap_tourney_exp_ci_l14 = np.percentile(tourney_sampling_exp_means14, 2.5)\n",
    "bootstrap_tourney_exp_ci_r14 = np.percentile(tourney_sampling_exp_means14, 97.5)\n",
    "print(\"Bootstrapped 95% confidence interval for 2014 tournament teams =\", (bootstrap_tourney_exp_ci_l14, bootstrap_tourney_exp_ci_r14))"
   ]
  },
  {
   "cell_type": "code",
   "execution_count": 15,
   "metadata": {},
   "outputs": [
    {
     "name": "stdout",
     "output_type": "stream",
     "text": [
      "Bootstrapped 95% confidence interval for 2014 non-tournament teams = (1.3446886446886448, 1.443956043956044)\n"
     ]
    }
   ],
   "source": [
    "# Bootstrapping for 2014 non-tournament teams\n",
    "\n",
    "np.random.seed(703)\n",
    "nontourney_bootstrap_exp_samples14 = np.random.choice(nontournament_exp14, size = (num_bootstraps, len(nontournament_exp14)), replace = True)\n",
    "nontourney_sampling_exp_means14 = np.average(nontourney_bootstrap_exp_samples14, axis=1)\n",
    "bootstrap_nontourney_exp_ci_l14 = np.percentile(nontourney_sampling_exp_means14, 2.5)\n",
    "bootstrap_nontourney_exp_ci_r14 = np.percentile(nontourney_sampling_exp_means14, 97.5)\n",
    "print(\"Bootstrapped 95% confidence interval for 2014 non-tournament teams =\", (bootstrap_nontourney_exp_ci_l14, bootstrap_nontourney_exp_ci_r14))"
   ]
  },
  {
   "cell_type": "markdown",
   "metadata": {},
   "source": [
    "For 2014, we are 95% confident that the true mean average experience of tournament teams is between 1.50 and 1.72. We are also 95% confident that the true mean average experience of non-tournament teams is between 1.34 and 1.44."
   ]
  },
  {
   "cell_type": "markdown",
   "metadata": {},
   "source": [
    "## 2015 - Height"
   ]
  },
  {
   "cell_type": "code",
   "execution_count": 16,
   "metadata": {
    "scrolled": true
   },
   "outputs": [
    {
     "data": {
      "text/html": [
       "<div>\n",
       "<style scoped>\n",
       "    .dataframe tbody tr th:only-of-type {\n",
       "        vertical-align: middle;\n",
       "    }\n",
       "\n",
       "    .dataframe tbody tr th {\n",
       "        vertical-align: top;\n",
       "    }\n",
       "\n",
       "    .dataframe thead th {\n",
       "        text-align: right;\n",
       "    }\n",
       "</style>\n",
       "<table border=\"1\" class=\"dataframe\">\n",
       "  <thead>\n",
       "    <tr style=\"text-align: right;\">\n",
       "      <th></th>\n",
       "      <th>School</th>\n",
       "      <th>Avg_Height</th>\n",
       "      <th>Avg_Experience</th>\n",
       "      <th>Postseason</th>\n",
       "    </tr>\n",
       "  </thead>\n",
       "  <tbody>\n",
       "    <tr>\n",
       "      <th>0</th>\n",
       "      <td>abilene christian</td>\n",
       "      <td>74.0</td>\n",
       "      <td>0.6</td>\n",
       "      <td>0</td>\n",
       "    </tr>\n",
       "    <tr>\n",
       "      <th>1</th>\n",
       "      <td>air force</td>\n",
       "      <td>77.0</td>\n",
       "      <td>1.6</td>\n",
       "      <td>0</td>\n",
       "    </tr>\n",
       "    <tr>\n",
       "      <th>2</th>\n",
       "      <td>akron</td>\n",
       "      <td>77.0</td>\n",
       "      <td>1.3</td>\n",
       "      <td>0</td>\n",
       "    </tr>\n",
       "    <tr>\n",
       "      <th>3</th>\n",
       "      <td>alabama</td>\n",
       "      <td>77.0</td>\n",
       "      <td>1.6</td>\n",
       "      <td>0</td>\n",
       "    </tr>\n",
       "    <tr>\n",
       "      <th>4</th>\n",
       "      <td>alabama am</td>\n",
       "      <td>77.0</td>\n",
       "      <td>1.0</td>\n",
       "      <td>0</td>\n",
       "    </tr>\n",
       "  </tbody>\n",
       "</table>\n",
       "</div>"
      ],
      "text/plain": [
       "              School  Avg_Height  Avg_Experience  Postseason\n",
       "0  abilene christian        74.0             0.6           0\n",
       "1          air force        77.0             1.6           0\n",
       "2              akron        77.0             1.3           0\n",
       "3            alabama        77.0             1.6           0\n",
       "4         alabama am        77.0             1.0           0"
      ]
     },
     "execution_count": 16,
     "metadata": {},
     "output_type": "execute_result"
    }
   ],
   "source": [
    "data15 = pd.read_csv(\"2015_CLEAN_with_postseason.csv\")\n",
    "data15.head()"
   ]
  },
  {
   "cell_type": "code",
   "execution_count": 17,
   "metadata": {},
   "outputs": [],
   "source": [
    "tournament_heights15 = data15[data15[\"Postseason\"] == 1][\"Avg_Height\"].values.tolist()\n",
    "nontournament_heights15 = data15[data15[\"Postseason\"] == 0][\"Avg_Height\"].values.tolist()"
   ]
  },
  {
   "cell_type": "code",
   "execution_count": 18,
   "metadata": {},
   "outputs": [
    {
     "name": "stdout",
     "output_type": "stream",
     "text": [
      "Bootstrapped 95% confidence interval for 2015 tournament teams = (77.02941176470588, 77.47058823529412)\n"
     ]
    }
   ],
   "source": [
    "# Bootstrapping for 2015 tournament teams\n",
    "\n",
    "np.random.seed(703)\n",
    "num_bootstraps = 10000\n",
    "tourney_bootstrap_heights_samples15 = np.random.choice(tournament_heights15, size = (num_bootstraps, len(tournament_heights15)), replace = True)\n",
    "tourney_sampling_heights_means15 = np.average(tourney_bootstrap_heights_samples15, axis=1)\n",
    "bootstrap_tourney_heights_ci_l15 = np.percentile(tourney_sampling_heights_means15, 2.5)\n",
    "bootstrap_tourney_heights_ci_r15 = np.percentile(tourney_sampling_heights_means15, 97.5)\n",
    "print(\"Bootstrapped 95% confidence interval for 2015 tournament teams =\", (bootstrap_tourney_heights_ci_l15, bootstrap_tourney_heights_ci_r15))"
   ]
  },
  {
   "cell_type": "code",
   "execution_count": 19,
   "metadata": {
    "scrolled": true
   },
   "outputs": [
    {
     "name": "stdout",
     "output_type": "stream",
     "text": [
      "Bootstrapped 95% confidence interval for 2015 non-tournament teams = (76.43682310469315, 76.65342960288808)\n"
     ]
    }
   ],
   "source": [
    "# Bootstrapping for 2015 non-tournament teams\n",
    "\n",
    "np.random.seed(703)\n",
    "nontourney_bootstrap_heights_samples15 = np.random.choice(nontournament_heights15, size = (num_bootstraps, len(nontournament_heights15)), replace = True)\n",
    "nontourney_sampling_heights_means15 = np.average(nontourney_bootstrap_heights_samples15, axis=1)\n",
    "bootstrap_nontourney_heights_ci_l15 = np.percentile(nontourney_sampling_heights_means15, 2.5)\n",
    "bootstrap_nontourney_heights_ci_r15 = np.percentile(nontourney_sampling_heights_means15, 97.5)\n",
    "print(\"Bootstrapped 95% confidence interval for 2015 non-tournament teams =\", (bootstrap_nontourney_heights_ci_l15, bootstrap_nontourney_heights_ci_r15))"
   ]
  },
  {
   "cell_type": "markdown",
   "metadata": {},
   "source": [
    "For 2015, we are 95% confident that the true mean height of tournament teams, in inches, is between 77.03 and 77.47. We are also 95% confident that the true mean height of non-tournament teams, in inches, is between 76.44 and 76.65."
   ]
  },
  {
   "cell_type": "markdown",
   "metadata": {},
   "source": [
    "## 2015 - Average Experience"
   ]
  },
  {
   "cell_type": "code",
   "execution_count": 20,
   "metadata": {},
   "outputs": [],
   "source": [
    "tournament_exp15 = data15[data15[\"Postseason\"] == 1][\"Avg_Experience\"].values.tolist()\n",
    "nontournament_exp15 = data15[data15[\"Postseason\"] == 0][\"Avg_Experience\"].values.tolist()"
   ]
  },
  {
   "cell_type": "code",
   "execution_count": 21,
   "metadata": {},
   "outputs": [
    {
     "name": "stdout",
     "output_type": "stream",
     "text": [
      "Bootstrapped 95% confidence interval for 2015 tournament teams = (1.4426470588235296, 1.638235294117647)\n"
     ]
    }
   ],
   "source": [
    "# Bootstrapping for 2015 tournament teams\n",
    "\n",
    "np.random.seed(703)\n",
    "tourney_bootstrap_exp_samples15 = np.random.choice(tournament_exp15, size = (num_bootstraps, len(tournament_exp15)), replace = True)\n",
    "tourney_sampling_exp_means15 = np.average(tourney_bootstrap_exp_samples15, axis=1)\n",
    "bootstrap_tourney_exp_ci_l15 = np.percentile(tourney_sampling_exp_means15, 2.5)\n",
    "bootstrap_tourney_exp_ci_r15 = np.percentile(tourney_sampling_exp_means15, 97.5)\n",
    "print(\"Bootstrapped 95% confidence interval for 2015 tournament teams =\", (bootstrap_tourney_exp_ci_l15, bootstrap_tourney_exp_ci_r15))"
   ]
  },
  {
   "cell_type": "code",
   "execution_count": 22,
   "metadata": {},
   "outputs": [
    {
     "name": "stdout",
     "output_type": "stream",
     "text": [
      "Bootstrapped 95% confidence interval for 2015 non-tournament teams = (1.339350180505415, 1.444043321299639)\n"
     ]
    }
   ],
   "source": [
    "# Bootstrapping for 2015 non-tournament teams\n",
    "\n",
    "np.random.seed(703)\n",
    "nontourney_bootstrap_exp_samples15 = np.random.choice(nontournament_exp15, size = (num_bootstraps, len(nontournament_exp15)), replace = True)\n",
    "nontourney_sampling_exp_means15 = np.average(nontourney_bootstrap_exp_samples15, axis=1)\n",
    "bootstrap_nontourney_exp_ci_l15 = np.percentile(nontourney_sampling_exp_means15, 2.5)\n",
    "bootstrap_nontourney_exp_ci_r15 = np.percentile(nontourney_sampling_exp_means15, 97.5)\n",
    "print(\"Bootstrapped 95% confidence interval for 2015 non-tournament teams =\", (bootstrap_nontourney_exp_ci_l15, bootstrap_nontourney_exp_ci_r15))"
   ]
  },
  {
   "cell_type": "markdown",
   "metadata": {},
   "source": [
    "For 2015, we are 95% confident that the true mean average experience of tournament teams is between 1.443 and 1.64. We are also 95% confident that the true mean average experience of non-tournament teams is between 1.34 and 1.444."
   ]
  },
  {
   "cell_type": "markdown",
   "metadata": {},
   "source": [
    "## 2016 - Height"
   ]
  },
  {
   "cell_type": "code",
   "execution_count": 23,
   "metadata": {
    "scrolled": true
   },
   "outputs": [
    {
     "data": {
      "text/html": [
       "<div>\n",
       "<style scoped>\n",
       "    .dataframe tbody tr th:only-of-type {\n",
       "        vertical-align: middle;\n",
       "    }\n",
       "\n",
       "    .dataframe tbody tr th {\n",
       "        vertical-align: top;\n",
       "    }\n",
       "\n",
       "    .dataframe thead th {\n",
       "        text-align: right;\n",
       "    }\n",
       "</style>\n",
       "<table border=\"1\" class=\"dataframe\">\n",
       "  <thead>\n",
       "    <tr style=\"text-align: right;\">\n",
       "      <th></th>\n",
       "      <th>School</th>\n",
       "      <th>Avg_Height</th>\n",
       "      <th>Avg_Experience</th>\n",
       "      <th>Postseason</th>\n",
       "    </tr>\n",
       "  </thead>\n",
       "  <tbody>\n",
       "    <tr>\n",
       "      <th>0</th>\n",
       "      <td>abilene christian</td>\n",
       "      <td>75.0</td>\n",
       "      <td>0.8</td>\n",
       "      <td>0</td>\n",
       "    </tr>\n",
       "    <tr>\n",
       "      <th>1</th>\n",
       "      <td>air force</td>\n",
       "      <td>77.0</td>\n",
       "      <td>1.4</td>\n",
       "      <td>0</td>\n",
       "    </tr>\n",
       "    <tr>\n",
       "      <th>2</th>\n",
       "      <td>akron</td>\n",
       "      <td>77.0</td>\n",
       "      <td>1.8</td>\n",
       "      <td>0</td>\n",
       "    </tr>\n",
       "    <tr>\n",
       "      <th>3</th>\n",
       "      <td>alabama</td>\n",
       "      <td>77.0</td>\n",
       "      <td>1.6</td>\n",
       "      <td>0</td>\n",
       "    </tr>\n",
       "    <tr>\n",
       "      <th>4</th>\n",
       "      <td>alabama am</td>\n",
       "      <td>76.0</td>\n",
       "      <td>1.3</td>\n",
       "      <td>0</td>\n",
       "    </tr>\n",
       "  </tbody>\n",
       "</table>\n",
       "</div>"
      ],
      "text/plain": [
       "              School  Avg_Height  Avg_Experience  Postseason\n",
       "0  abilene christian        75.0             0.8           0\n",
       "1          air force        77.0             1.4           0\n",
       "2              akron        77.0             1.8           0\n",
       "3            alabama        77.0             1.6           0\n",
       "4         alabama am        76.0             1.3           0"
      ]
     },
     "execution_count": 23,
     "metadata": {},
     "output_type": "execute_result"
    }
   ],
   "source": [
    "data16 = pd.read_csv(\"2016_CLEAN_with_postseason.csv\")\n",
    "data16.head()"
   ]
  },
  {
   "cell_type": "code",
   "execution_count": 24,
   "metadata": {},
   "outputs": [],
   "source": [
    "tournament_heights16 = data16[data16[\"Postseason\"] == 1][\"Avg_Height\"].values.tolist()\n",
    "nontournament_heights16 = data16[data16[\"Postseason\"] == 0][\"Avg_Height\"].values.tolist()"
   ]
  },
  {
   "cell_type": "code",
   "execution_count": 25,
   "metadata": {},
   "outputs": [
    {
     "name": "stdout",
     "output_type": "stream",
     "text": [
      "Bootstrapped 95% confidence interval for 2016 tournament teams = (77.02941176470588, 77.47058823529412)\n"
     ]
    }
   ],
   "source": [
    "# Bootstrapping for 2016 tournament teams\n",
    "\n",
    "np.random.seed(703)\n",
    "num_bootstraps = 10000\n",
    "tourney_bootstrap_heights_samples16 = np.random.choice(tournament_heights16, size = (num_bootstraps, len(tournament_heights16)), replace = True)\n",
    "tourney_sampling_heights_means16 = np.average(tourney_bootstrap_heights_samples16, axis=1)\n",
    "bootstrap_tourney_heights_ci_l16 = np.percentile(tourney_sampling_heights_means16, 2.5)\n",
    "bootstrap_tourney_heights_ci_r16 = np.percentile(tourney_sampling_heights_means16, 97.5)\n",
    "print(\"Bootstrapped 95% confidence interval for 2016 tournament teams =\", (bootstrap_tourney_heights_ci_l16, bootstrap_tourney_heights_ci_r16))"
   ]
  },
  {
   "cell_type": "code",
   "execution_count": 26,
   "metadata": {
    "scrolled": true
   },
   "outputs": [
    {
     "name": "stdout",
     "output_type": "stream",
     "text": [
      "Bootstrapped 95% confidence interval for 2016 non-tournament teams = (76.50709219858156, 76.71985815602837)\n"
     ]
    }
   ],
   "source": [
    "# Bootstrapping for 2016 non-tournament teams\n",
    "\n",
    "np.random.seed(703)\n",
    "nontourney_bootstrap_heights_samples16 = np.random.choice(nontournament_heights16, size = (num_bootstraps, len(nontournament_heights16)), replace = True)\n",
    "nontourney_sampling_heights_means16 = np.average(nontourney_bootstrap_heights_samples16, axis=1)\n",
    "bootstrap_nontourney_heights_ci_l16 = np.percentile(nontourney_sampling_heights_means16, 2.5)\n",
    "bootstrap_nontourney_heights_ci_r16 = np.percentile(nontourney_sampling_heights_means16, 97.5)\n",
    "print(\"Bootstrapped 95% confidence interval for 2016 non-tournament teams =\", (bootstrap_nontourney_heights_ci_l16, bootstrap_nontourney_heights_ci_r16))"
   ]
  },
  {
   "cell_type": "markdown",
   "metadata": {},
   "source": [
    "For 2016, we are 95% confident that the true mean height of tournament teams, in inches, is between 77.03 and 77.47. We are also 95% confident that the true mean height of non-tournament teams, in inches, is between 76.51 and 76.72."
   ]
  },
  {
   "cell_type": "markdown",
   "metadata": {},
   "source": [
    "## 2016 - Average Experience"
   ]
  },
  {
   "cell_type": "code",
   "execution_count": 27,
   "metadata": {},
   "outputs": [],
   "source": [
    "tournament_exp16 = data16[data16[\"Postseason\"] == 1][\"Avg_Experience\"].values.tolist()\n",
    "nontournament_exp16 = data16[data16[\"Postseason\"] == 0][\"Avg_Experience\"].values.tolist()"
   ]
  },
  {
   "cell_type": "code",
   "execution_count": 28,
   "metadata": {},
   "outputs": [
    {
     "name": "stdout",
     "output_type": "stream",
     "text": [
      "Bootstrapped 95% confidence interval for 2016 tournament teams = (1.5205882352941176, 1.7102941176470585)\n"
     ]
    }
   ],
   "source": [
    "# Bootstrapping for 2016 tournament teams\n",
    "\n",
    "np.random.seed(703)\n",
    "tourney_bootstrap_exp_samples16 = np.random.choice(tournament_exp16, size = (num_bootstraps, len(tournament_exp16)), replace = True)\n",
    "tourney_sampling_exp_means16 = np.average(tourney_bootstrap_exp_samples16, axis=1)\n",
    "bootstrap_tourney_exp_ci_l16 = np.percentile(tourney_sampling_exp_means16, 2.5)\n",
    "bootstrap_tourney_exp_ci_r16 = np.percentile(tourney_sampling_exp_means16, 97.5)\n",
    "print(\"Bootstrapped 95% confidence interval for 2016 tournament teams =\", (bootstrap_tourney_exp_ci_l16, bootstrap_tourney_exp_ci_r16))"
   ]
  },
  {
   "cell_type": "code",
   "execution_count": 29,
   "metadata": {},
   "outputs": [
    {
     "name": "stdout",
     "output_type": "stream",
     "text": [
      "Bootstrapped 95% confidence interval for 2016 non-tournament teams = (1.3173758865248226, 1.417375886524823)\n"
     ]
    }
   ],
   "source": [
    "# Bootstrapping for 2016 non-tournament teams\n",
    "\n",
    "np.random.seed(703)\n",
    "nontourney_bootstrap_exp_samples16 = np.random.choice(nontournament_exp16, size = (num_bootstraps, len(nontournament_exp16)), replace = True)\n",
    "nontourney_sampling_exp_means16 = np.average(nontourney_bootstrap_exp_samples16, axis=1)\n",
    "bootstrap_nontourney_exp_ci_l16 = np.percentile(nontourney_sampling_exp_means16, 2.5)\n",
    "bootstrap_nontourney_exp_ci_r16 = np.percentile(nontourney_sampling_exp_means16, 97.5)\n",
    "print(\"Bootstrapped 95% confidence interval for 2016 non-tournament teams =\", (bootstrap_nontourney_exp_ci_l16, bootstrap_nontourney_exp_ci_r16))"
   ]
  },
  {
   "cell_type": "markdown",
   "metadata": {},
   "source": [
    "For 2016, we are 95% confident that the true mean average experience of tournament teams is between 1.52 and 1.71. We are also 95% confident that the true mean average experience of non-tournament teams is between 1.32 and 1.42."
   ]
  },
  {
   "cell_type": "markdown",
   "metadata": {},
   "source": [
    "## 2017 - Height"
   ]
  },
  {
   "cell_type": "code",
   "execution_count": 30,
   "metadata": {
    "scrolled": true
   },
   "outputs": [
    {
     "data": {
      "text/html": [
       "<div>\n",
       "<style scoped>\n",
       "    .dataframe tbody tr th:only-of-type {\n",
       "        vertical-align: middle;\n",
       "    }\n",
       "\n",
       "    .dataframe tbody tr th {\n",
       "        vertical-align: top;\n",
       "    }\n",
       "\n",
       "    .dataframe thead th {\n",
       "        text-align: right;\n",
       "    }\n",
       "</style>\n",
       "<table border=\"1\" class=\"dataframe\">\n",
       "  <thead>\n",
       "    <tr style=\"text-align: right;\">\n",
       "      <th></th>\n",
       "      <th>School</th>\n",
       "      <th>Avg_Height</th>\n",
       "      <th>Avg_Experience</th>\n",
       "      <th>Postseason</th>\n",
       "    </tr>\n",
       "  </thead>\n",
       "  <tbody>\n",
       "    <tr>\n",
       "      <th>0</th>\n",
       "      <td>abilene christian</td>\n",
       "      <td>76.0</td>\n",
       "      <td>1.0</td>\n",
       "      <td>0</td>\n",
       "    </tr>\n",
       "    <tr>\n",
       "      <th>1</th>\n",
       "      <td>air force</td>\n",
       "      <td>76.0</td>\n",
       "      <td>1.9</td>\n",
       "      <td>0</td>\n",
       "    </tr>\n",
       "    <tr>\n",
       "      <th>2</th>\n",
       "      <td>akron</td>\n",
       "      <td>77.0</td>\n",
       "      <td>1.8</td>\n",
       "      <td>0</td>\n",
       "    </tr>\n",
       "    <tr>\n",
       "      <th>3</th>\n",
       "      <td>alabama</td>\n",
       "      <td>78.0</td>\n",
       "      <td>1.5</td>\n",
       "      <td>0</td>\n",
       "    </tr>\n",
       "    <tr>\n",
       "      <th>4</th>\n",
       "      <td>alabama am</td>\n",
       "      <td>75.0</td>\n",
       "      <td>1.3</td>\n",
       "      <td>0</td>\n",
       "    </tr>\n",
       "  </tbody>\n",
       "</table>\n",
       "</div>"
      ],
      "text/plain": [
       "              School  Avg_Height  Avg_Experience  Postseason\n",
       "0  abilene christian        76.0             1.0           0\n",
       "1          air force        76.0             1.9           0\n",
       "2              akron        77.0             1.8           0\n",
       "3            alabama        78.0             1.5           0\n",
       "4         alabama am        75.0             1.3           0"
      ]
     },
     "execution_count": 30,
     "metadata": {},
     "output_type": "execute_result"
    }
   ],
   "source": [
    "data17 = pd.read_csv(\"2017_CLEAN_with_postseason.csv\")\n",
    "data17.head()"
   ]
  },
  {
   "cell_type": "code",
   "execution_count": 31,
   "metadata": {},
   "outputs": [],
   "source": [
    "tournament_heights17 = data17[data17[\"Postseason\"] == 1][\"Avg_Height\"].values.tolist()\n",
    "nontournament_heights17 = data17[data17[\"Postseason\"] == 0][\"Avg_Height\"].values.tolist()"
   ]
  },
  {
   "cell_type": "code",
   "execution_count": 32,
   "metadata": {},
   "outputs": [
    {
     "name": "stdout",
     "output_type": "stream",
     "text": [
      "Bootstrapped 95% confidence interval for 2017 tournament teams = (76.79411764705883, 77.25)\n"
     ]
    }
   ],
   "source": [
    "# Bootstrapping for 2017 tournament teams\n",
    "\n",
    "np.random.seed(703)\n",
    "num_bootstraps = 10000\n",
    "tourney_bootstrap_heights_samples17 = np.random.choice(tournament_heights17, size = (num_bootstraps, len(tournament_heights17)), replace = True)\n",
    "tourney_sampling_heights_means17 = np.average(tourney_bootstrap_heights_samples17, axis=1)\n",
    "bootstrap_tourney_heights_ci_l17 = np.percentile(tourney_sampling_heights_means17, 2.5)\n",
    "bootstrap_tourney_heights_ci_r17 = np.percentile(tourney_sampling_heights_means17, 97.5)\n",
    "print(\"Bootstrapped 95% confidence interval for 2017 tournament teams =\", (bootstrap_tourney_heights_ci_l17, bootstrap_tourney_heights_ci_r17))"
   ]
  },
  {
   "cell_type": "code",
   "execution_count": 33,
   "metadata": {
    "scrolled": true
   },
   "outputs": [
    {
     "name": "stdout",
     "output_type": "stream",
     "text": [
      "Bootstrapped 95% confidence interval for 2017 non-tournament teams = (76.59074733096085, 76.79359430604983)\n"
     ]
    }
   ],
   "source": [
    "# Bootstrapping for 2017 non-tournament teams\n",
    "\n",
    "np.random.seed(703)\n",
    "nontourney_bootstrap_heights_samples17 = np.random.choice(nontournament_heights17, size = (num_bootstraps, len(nontournament_heights17)), replace = True)\n",
    "nontourney_sampling_heights_means17 = np.average(nontourney_bootstrap_heights_samples17, axis=1)\n",
    "bootstrap_nontourney_heights_ci_l17 = np.percentile(nontourney_sampling_heights_means17, 2.5)\n",
    "bootstrap_nontourney_heights_ci_r17 = np.percentile(nontourney_sampling_heights_means17, 97.5)\n",
    "print(\"Bootstrapped 95% confidence interval for 2017 non-tournament teams =\", (bootstrap_nontourney_heights_ci_l17, bootstrap_nontourney_heights_ci_r17))"
   ]
  },
  {
   "cell_type": "markdown",
   "metadata": {},
   "source": [
    "For 2017, we are 95% confident that the true mean height of tournament teams, in inches, is between 76.794 and 77.25. We are also 95% confident that the true mean height of non-tournament teams, in inches, is between 76.59 and 76.793."
   ]
  },
  {
   "cell_type": "markdown",
   "metadata": {},
   "source": [
    "## 2017 - Average Experience"
   ]
  },
  {
   "cell_type": "code",
   "execution_count": 34,
   "metadata": {},
   "outputs": [],
   "source": [
    "tournament_exp17 = data17[data17[\"Postseason\"] == 1][\"Avg_Experience\"].values.tolist()\n",
    "nontournament_exp17 = data17[data17[\"Postseason\"] == 0][\"Avg_Experience\"].values.tolist()"
   ]
  },
  {
   "cell_type": "code",
   "execution_count": 35,
   "metadata": {},
   "outputs": [
    {
     "name": "stdout",
     "output_type": "stream",
     "text": [
      "Bootstrapped 95% confidence interval for 2017 tournament teams = (1.5191176470588235, 1.6882352941176468)\n"
     ]
    }
   ],
   "source": [
    "# Bootstrapping for 2017 tournament teams\n",
    "\n",
    "np.random.seed(703)\n",
    "tourney_bootstrap_exp_samples17 = np.random.choice(tournament_exp17, size = (num_bootstraps, len(tournament_exp17)), replace = True)\n",
    "tourney_sampling_exp_means17 = np.average(tourney_bootstrap_exp_samples17, axis=1)\n",
    "bootstrap_tourney_exp_ci_l17 = np.percentile(tourney_sampling_exp_means17, 2.5)\n",
    "bootstrap_tourney_exp_ci_r17 = np.percentile(tourney_sampling_exp_means17, 97.5)\n",
    "print(\"Bootstrapped 95% confidence interval for 2017 tournament teams =\", (bootstrap_tourney_exp_ci_l17, bootstrap_tourney_exp_ci_r17))"
   ]
  },
  {
   "cell_type": "code",
   "execution_count": 36,
   "metadata": {},
   "outputs": [
    {
     "name": "stdout",
     "output_type": "stream",
     "text": [
      "Bootstrapped 95% confidence interval for 2017 non-tournament teams = (1.3402135231316725, 1.4291814946619217)\n"
     ]
    }
   ],
   "source": [
    "# Bootstrapping for 2017 non-tournament teams\n",
    "\n",
    "np.random.seed(703)\n",
    "nontourney_bootstrap_exp_samples17 = np.random.choice(nontournament_exp17, size = (num_bootstraps, len(nontournament_exp17)), replace = True)\n",
    "nontourney_sampling_exp_means17 = np.average(nontourney_bootstrap_exp_samples17, axis=1)\n",
    "bootstrap_nontourney_exp_ci_l17 = np.percentile(nontourney_sampling_exp_means17, 2.5)\n",
    "bootstrap_nontourney_exp_ci_r17 = np.percentile(nontourney_sampling_exp_means17, 97.5)\n",
    "print(\"Bootstrapped 95% confidence interval for 2017 non-tournament teams =\", (bootstrap_nontourney_exp_ci_l17, bootstrap_nontourney_exp_ci_r17))"
   ]
  },
  {
   "cell_type": "markdown",
   "metadata": {},
   "source": [
    "For 2017, we are 95% confident that the true mean average experience of tournament teams is between 1.52 and 1.69. We are also 95% confident that the true mean average experience of non-tournament teams is between 1.34 and 1.43."
   ]
  },
  {
   "cell_type": "markdown",
   "metadata": {},
   "source": [
    "## 2018 - Height"
   ]
  },
  {
   "cell_type": "code",
   "execution_count": 37,
   "metadata": {
    "scrolled": true
   },
   "outputs": [
    {
     "data": {
      "text/html": [
       "<div>\n",
       "<style scoped>\n",
       "    .dataframe tbody tr th:only-of-type {\n",
       "        vertical-align: middle;\n",
       "    }\n",
       "\n",
       "    .dataframe tbody tr th {\n",
       "        vertical-align: top;\n",
       "    }\n",
       "\n",
       "    .dataframe thead th {\n",
       "        text-align: right;\n",
       "    }\n",
       "</style>\n",
       "<table border=\"1\" class=\"dataframe\">\n",
       "  <thead>\n",
       "    <tr style=\"text-align: right;\">\n",
       "      <th></th>\n",
       "      <th>School</th>\n",
       "      <th>Avg_Height</th>\n",
       "      <th>Avg_Experience</th>\n",
       "      <th>Postseason</th>\n",
       "    </tr>\n",
       "  </thead>\n",
       "  <tbody>\n",
       "    <tr>\n",
       "      <th>0</th>\n",
       "      <td>abilene christian</td>\n",
       "      <td>76.0</td>\n",
       "      <td>1.5</td>\n",
       "      <td>0</td>\n",
       "    </tr>\n",
       "    <tr>\n",
       "      <th>1</th>\n",
       "      <td>air force</td>\n",
       "      <td>77.0</td>\n",
       "      <td>1.9</td>\n",
       "      <td>0</td>\n",
       "    </tr>\n",
       "    <tr>\n",
       "      <th>2</th>\n",
       "      <td>akron</td>\n",
       "      <td>77.0</td>\n",
       "      <td>1.2</td>\n",
       "      <td>0</td>\n",
       "    </tr>\n",
       "    <tr>\n",
       "      <th>3</th>\n",
       "      <td>alabama</td>\n",
       "      <td>78.0</td>\n",
       "      <td>0.9</td>\n",
       "      <td>1</td>\n",
       "    </tr>\n",
       "    <tr>\n",
       "      <th>4</th>\n",
       "      <td>alabama am</td>\n",
       "      <td>75.0</td>\n",
       "      <td>0.9</td>\n",
       "      <td>0</td>\n",
       "    </tr>\n",
       "  </tbody>\n",
       "</table>\n",
       "</div>"
      ],
      "text/plain": [
       "              School  Avg_Height  Avg_Experience  Postseason\n",
       "0  abilene christian        76.0             1.5           0\n",
       "1          air force        77.0             1.9           0\n",
       "2              akron        77.0             1.2           0\n",
       "3            alabama        78.0             0.9           1\n",
       "4         alabama am        75.0             0.9           0"
      ]
     },
     "execution_count": 37,
     "metadata": {},
     "output_type": "execute_result"
    }
   ],
   "source": [
    "data18 = pd.read_csv(\"2018_CLEAN_with_postseason.csv\")\n",
    "data18.head()"
   ]
  },
  {
   "cell_type": "code",
   "execution_count": 38,
   "metadata": {},
   "outputs": [],
   "source": [
    "tournament_heights18 = data18[data18[\"Postseason\"] == 1][\"Avg_Height\"].values.tolist()\n",
    "nontournament_heights18 = data18[data18[\"Postseason\"] == 0][\"Avg_Height\"].values.tolist()"
   ]
  },
  {
   "cell_type": "code",
   "execution_count": 39,
   "metadata": {},
   "outputs": [
    {
     "name": "stdout",
     "output_type": "stream",
     "text": [
      "Bootstrapped 95% confidence interval for 2018 tournament teams = (77.01515151515152, 77.5)\n"
     ]
    }
   ],
   "source": [
    "# Bootstrapping for 2018 tournament teams\n",
    "\n",
    "np.random.seed(703)\n",
    "num_bootstraps = 10000\n",
    "tourney_bootstrap_heights_samples18 = np.random.choice(tournament_heights18, size = (num_bootstraps, len(tournament_heights18)), replace = True)\n",
    "tourney_sampling_heights_means18 = np.average(tourney_bootstrap_heights_samples18, axis=1)\n",
    "bootstrap_tourney_heights_ci_l18 = np.percentile(tourney_sampling_heights_means18, 2.5)\n",
    "bootstrap_tourney_heights_ci_r18 = np.percentile(tourney_sampling_heights_means18, 97.5)\n",
    "print(\"Bootstrapped 95% confidence interval for 2018 tournament teams =\", (bootstrap_tourney_heights_ci_l18, bootstrap_tourney_heights_ci_r18))"
   ]
  },
  {
   "cell_type": "code",
   "execution_count": 40,
   "metadata": {
    "scrolled": true
   },
   "outputs": [
    {
     "name": "stdout",
     "output_type": "stream",
     "text": [
      "Bootstrapped 95% confidence interval for 2018 non-tournament teams = (76.64768683274022, 76.86120996441281)\n"
     ]
    }
   ],
   "source": [
    "# Bootstrapping for 2018 non-tournament teams\n",
    "\n",
    "np.random.seed(703)\n",
    "nontourney_bootstrap_heights_samples18 = np.random.choice(nontournament_heights18, size = (num_bootstraps, len(nontournament_heights18)), replace = True)\n",
    "nontourney_sampling_heights_means18 = np.average(nontourney_bootstrap_heights_samples18, axis=1)\n",
    "bootstrap_nontourney_heights_ci_l18 = np.percentile(nontourney_sampling_heights_means18, 2.5)\n",
    "bootstrap_nontourney_heights_ci_r18 = np.percentile(nontourney_sampling_heights_means18, 97.5)\n",
    "print(\"Bootstrapped 95% confidence interval for 2018 non-tournament teams =\", (bootstrap_nontourney_heights_ci_l18, bootstrap_nontourney_heights_ci_r18))"
   ]
  },
  {
   "cell_type": "markdown",
   "metadata": {},
   "source": [
    "For 2018, we are 95% confident that the true mean height of tournament teams, in inches, is between 77.02 and 77.50. We are also 95% confident that the true mean height of non-tournament teams, in inches, is between 76.65 and 76.86."
   ]
  },
  {
   "cell_type": "markdown",
   "metadata": {},
   "source": [
    "## 2018 - Average Experience"
   ]
  },
  {
   "cell_type": "code",
   "execution_count": 41,
   "metadata": {},
   "outputs": [],
   "source": [
    "tournament_exp18 = data18[data18[\"Postseason\"] == 1][\"Avg_Experience\"].values.tolist()\n",
    "nontournament_exp18 = data18[data18[\"Postseason\"] == 0][\"Avg_Experience\"].values.tolist()"
   ]
  },
  {
   "cell_type": "code",
   "execution_count": 42,
   "metadata": {},
   "outputs": [
    {
     "name": "stdout",
     "output_type": "stream",
     "text": [
      "Bootstrapped 95% confidence interval for 2018 tournament teams = (1.4545454545454546, 1.639431818181818)\n"
     ]
    }
   ],
   "source": [
    "# Bootstrapping for 2018 tournament teams\n",
    "\n",
    "np.random.seed(703)\n",
    "tourney_bootstrap_exp_samples18 = np.random.choice(tournament_exp18, size = (num_bootstraps, len(tournament_exp18)), replace = True)\n",
    "tourney_sampling_exp_means18 = np.average(tourney_bootstrap_exp_samples18, axis=1)\n",
    "bootstrap_tourney_exp_ci_l18 = np.percentile(tourney_sampling_exp_means18, 2.5)\n",
    "bootstrap_tourney_exp_ci_r18 = np.percentile(tourney_sampling_exp_means18, 97.5)\n",
    "print(\"Bootstrapped 95% confidence interval for 2018 tournament teams =\", (bootstrap_tourney_exp_ci_l18, bootstrap_tourney_exp_ci_r18))"
   ]
  },
  {
   "cell_type": "code",
   "execution_count": 43,
   "metadata": {},
   "outputs": [
    {
     "name": "stdout",
     "output_type": "stream",
     "text": [
      "Bootstrapped 95% confidence interval for 2018 non-tournament teams = (1.3558718861209964, 1.4548042704626336)\n"
     ]
    }
   ],
   "source": [
    "# Bootstrapping for 2018 non-tournament teams\n",
    "\n",
    "np.random.seed(703)\n",
    "nontourney_bootstrap_exp_samples18 = np.random.choice(nontournament_exp18, size = (num_bootstraps, len(nontournament_exp18)), replace = True)\n",
    "nontourney_sampling_exp_means18 = np.average(nontourney_bootstrap_exp_samples18, axis=1)\n",
    "bootstrap_nontourney_exp_ci_l18 = np.percentile(nontourney_sampling_exp_means18, 2.5)\n",
    "bootstrap_nontourney_exp_ci_r18 = np.percentile(nontourney_sampling_exp_means18, 97.5)\n",
    "print(\"Bootstrapped 95% confidence interval for 2018 non-tournament teams =\", (bootstrap_nontourney_exp_ci_l18, bootstrap_nontourney_exp_ci_r18))"
   ]
  },
  {
   "cell_type": "markdown",
   "metadata": {},
   "source": [
    "For 2018, we are 95% confident that the true mean average experience of tournament teams is between 1.45 and 1.64. We are also 95% confident that the true mean average experience of non-tournament teams is between 1.36 and 1.45."
   ]
  },
  {
   "cell_type": "markdown",
   "metadata": {},
   "source": [
    "## 2019 - Height"
   ]
  },
  {
   "cell_type": "code",
   "execution_count": 44,
   "metadata": {
    "scrolled": true
   },
   "outputs": [
    {
     "data": {
      "text/html": [
       "<div>\n",
       "<style scoped>\n",
       "    .dataframe tbody tr th:only-of-type {\n",
       "        vertical-align: middle;\n",
       "    }\n",
       "\n",
       "    .dataframe tbody tr th {\n",
       "        vertical-align: top;\n",
       "    }\n",
       "\n",
       "    .dataframe thead th {\n",
       "        text-align: right;\n",
       "    }\n",
       "</style>\n",
       "<table border=\"1\" class=\"dataframe\">\n",
       "  <thead>\n",
       "    <tr style=\"text-align: right;\">\n",
       "      <th></th>\n",
       "      <th>School</th>\n",
       "      <th>Avg_Height</th>\n",
       "      <th>Avg_Experience</th>\n",
       "      <th>Postseason</th>\n",
       "    </tr>\n",
       "  </thead>\n",
       "  <tbody>\n",
       "    <tr>\n",
       "      <th>0</th>\n",
       "      <td>abilene christian</td>\n",
       "      <td>76.0</td>\n",
       "      <td>2.0</td>\n",
       "      <td>1</td>\n",
       "    </tr>\n",
       "    <tr>\n",
       "      <th>1</th>\n",
       "      <td>air force</td>\n",
       "      <td>77.0</td>\n",
       "      <td>1.5</td>\n",
       "      <td>0</td>\n",
       "    </tr>\n",
       "    <tr>\n",
       "      <th>2</th>\n",
       "      <td>akron</td>\n",
       "      <td>76.0</td>\n",
       "      <td>1.5</td>\n",
       "      <td>0</td>\n",
       "    </tr>\n",
       "    <tr>\n",
       "      <th>3</th>\n",
       "      <td>alabama</td>\n",
       "      <td>78.0</td>\n",
       "      <td>1.8</td>\n",
       "      <td>0</td>\n",
       "    </tr>\n",
       "    <tr>\n",
       "      <th>4</th>\n",
       "      <td>alabama am</td>\n",
       "      <td>76.0</td>\n",
       "      <td>0.8</td>\n",
       "      <td>0</td>\n",
       "    </tr>\n",
       "  </tbody>\n",
       "</table>\n",
       "</div>"
      ],
      "text/plain": [
       "              School  Avg_Height  Avg_Experience  Postseason\n",
       "0  abilene christian        76.0             2.0           1\n",
       "1          air force        77.0             1.5           0\n",
       "2              akron        76.0             1.5           0\n",
       "3            alabama        78.0             1.8           0\n",
       "4         alabama am        76.0             0.8           0"
      ]
     },
     "execution_count": 44,
     "metadata": {},
     "output_type": "execute_result"
    }
   ],
   "source": [
    "data19 = pd.read_csv(\"2019_CLEAN_with_postseason.csv\")\n",
    "data19.head()"
   ]
  },
  {
   "cell_type": "code",
   "execution_count": 45,
   "metadata": {},
   "outputs": [],
   "source": [
    "tournament_heights19 = data19[data19[\"Postseason\"] == 1][\"Avg_Height\"].values.tolist()\n",
    "nontournament_heights19 = data19[data19[\"Postseason\"] == 0][\"Avg_Height\"].values.tolist()"
   ]
  },
  {
   "cell_type": "code",
   "execution_count": 46,
   "metadata": {},
   "outputs": [
    {
     "name": "stdout",
     "output_type": "stream",
     "text": [
      "Bootstrapped 95% confidence interval for 2019 tournament teams = (77.14925373134328, 77.56716417910448)\n"
     ]
    }
   ],
   "source": [
    "# Bootstrapping for 2019 tournament teams\n",
    "\n",
    "np.random.seed(703)\n",
    "num_bootstraps = 10000\n",
    "tourney_bootstrap_heights_samples19 = np.random.choice(tournament_heights19, size = (num_bootstraps, len(tournament_heights19)), replace = True)\n",
    "tourney_sampling_heights_means19 = np.average(tourney_bootstrap_heights_samples19, axis=1)\n",
    "bootstrap_tourney_heights_ci_l19 = np.percentile(tourney_sampling_heights_means19, 2.5)\n",
    "bootstrap_tourney_heights_ci_r19 = np.percentile(tourney_sampling_heights_means19, 97.5)\n",
    "print(\"Bootstrapped 95% confidence interval for 2019 tournament teams =\", (bootstrap_tourney_heights_ci_l19, bootstrap_tourney_heights_ci_r19))"
   ]
  },
  {
   "cell_type": "code",
   "execution_count": 47,
   "metadata": {
    "scrolled": true
   },
   "outputs": [
    {
     "name": "stdout",
     "output_type": "stream",
     "text": [
      "Bootstrapped 95% confidence interval for 2019 non-tournament teams = (76.66308243727599, 76.87455197132617)\n"
     ]
    }
   ],
   "source": [
    "# Bootstrapping for 2019 non-tournament teams\n",
    "\n",
    "np.random.seed(703)\n",
    "nontourney_bootstrap_heights_samples19 = np.random.choice(nontournament_heights19, size = (num_bootstraps, len(nontournament_heights19)), replace = True)\n",
    "nontourney_sampling_heights_means19 = np.average(nontourney_bootstrap_heights_samples19, axis=1)\n",
    "bootstrap_nontourney_heights_ci_l19 = np.percentile(nontourney_sampling_heights_means19, 2.5)\n",
    "bootstrap_nontourney_heights_ci_r19 = np.percentile(nontourney_sampling_heights_means19, 97.5)\n",
    "print(\"Bootstrapped 95% confidence interval for 2019 non-tournament teams =\", (bootstrap_nontourney_heights_ci_l19, bootstrap_nontourney_heights_ci_r19))"
   ]
  },
  {
   "cell_type": "markdown",
   "metadata": {},
   "source": [
    "For 2019, we are 95% confident that the true mean height of tournament teams, in inches, is between 77.15 and 77.57. We are also 95% confident that the true mean height of non-tournament teams, in inches, is between 76.66 and 76.87."
   ]
  },
  {
   "cell_type": "markdown",
   "metadata": {},
   "source": [
    "## 2019 - Average Experience"
   ]
  },
  {
   "cell_type": "code",
   "execution_count": 48,
   "metadata": {},
   "outputs": [],
   "source": [
    "tournament_exp19 = data19[data19[\"Postseason\"] == 1][\"Avg_Experience\"].values.tolist()\n",
    "nontournament_exp19 = data19[data19[\"Postseason\"] == 0][\"Avg_Experience\"].values.tolist()"
   ]
  },
  {
   "cell_type": "code",
   "execution_count": 49,
   "metadata": {},
   "outputs": [
    {
     "name": "stdout",
     "output_type": "stream",
     "text": [
      "Bootstrapped 95% confidence interval for 2019 tournament teams = (1.5358208955223882, 1.7402985074626864)\n"
     ]
    }
   ],
   "source": [
    "# Bootstrapping for 2019 tournament teams\n",
    "\n",
    "np.random.seed(703)\n",
    "tourney_bootstrap_exp_samples19 = np.random.choice(tournament_exp19, size = (num_bootstraps, len(tournament_exp19)), replace = True)\n",
    "tourney_sampling_exp_means19 = np.average(tourney_bootstrap_exp_samples19, axis=1)\n",
    "bootstrap_tourney_exp_ci_l19 = np.percentile(tourney_sampling_exp_means19, 2.5)\n",
    "bootstrap_tourney_exp_ci_r19 = np.percentile(tourney_sampling_exp_means19, 97.5)\n",
    "print(\"Bootstrapped 95% confidence interval for 2019 tournament teams =\", (bootstrap_tourney_exp_ci_l19, bootstrap_tourney_exp_ci_r19))"
   ]
  },
  {
   "cell_type": "code",
   "execution_count": 50,
   "metadata": {},
   "outputs": [
    {
     "name": "stdout",
     "output_type": "stream",
     "text": [
      "Bootstrapped 95% confidence interval for 2019 non-tournament teams = (1.310035842293907, 1.40752688172043)\n"
     ]
    }
   ],
   "source": [
    "# Bootstrapping for 2019 non-tournament teams\n",
    "\n",
    "np.random.seed(703)\n",
    "nontourney_bootstrap_exp_samples19 = np.random.choice(nontournament_exp19, size = (num_bootstraps, len(nontournament_exp19)), replace = True)\n",
    "nontourney_sampling_exp_means19 = np.average(nontourney_bootstrap_exp_samples19, axis=1)\n",
    "bootstrap_nontourney_exp_ci_l19 = np.percentile(nontourney_sampling_exp_means19, 2.5)\n",
    "bootstrap_nontourney_exp_ci_r19 = np.percentile(nontourney_sampling_exp_means19, 97.5)\n",
    "print(\"Bootstrapped 95% confidence interval for 2019 non-tournament teams =\", (bootstrap_nontourney_exp_ci_l19, bootstrap_nontourney_exp_ci_r19))"
   ]
  },
  {
   "cell_type": "markdown",
   "metadata": {},
   "source": [
    "For 2019, we are 95% confident that the true mean average experience of tournament teams is between 1.54 and 1.74. We are also 95% confident that the true mean average experience of non-tournament teams is between 1.31 and 1.41."
   ]
  },
  {
   "cell_type": "markdown",
   "metadata": {},
   "source": [
    "## Overall Team Height\n",
    "All years combined"
   ]
  },
  {
   "cell_type": "code",
   "execution_count": 51,
   "metadata": {},
   "outputs": [],
   "source": [
    "tournament_heights_total = tournament_heights13 + tournament_heights14 + tournament_heights15 + tournament_heights16 + tournament_heights17 + tournament_heights18 + tournament_heights19\n",
    "nontournament_heights_total = nontournament_heights13 + nontournament_heights14 + nontournament_heights15 + nontournament_heights16 + nontournament_heights17 + nontournament_heights18 + nontournament_heights19"
   ]
  },
  {
   "cell_type": "code",
   "execution_count": 52,
   "metadata": {},
   "outputs": [
    {
     "name": "stdout",
     "output_type": "stream",
     "text": [
      "Bootstrapped 95% confidence interval for total tournament teams = (77.15957446808511, 77.32127659574468)\n"
     ]
    }
   ],
   "source": [
    "# Bootstrapping for total tournament teams\n",
    "\n",
    "np.random.seed(703)\n",
    "num_bootstraps = 10000\n",
    "tourney_bootstrap_heights_samples_total = np.random.choice(tournament_heights_total, size = (num_bootstraps, len(tournament_heights_total)), replace = True)\n",
    "tourney_sampling_heights_means_total = np.average(tourney_bootstrap_heights_samples_total, axis=1)\n",
    "bootstrap_tourney_heights_ci_l_total = np.percentile(tourney_sampling_heights_means_total, 2.5)\n",
    "bootstrap_tourney_heights_ci_r_total = np.percentile(tourney_sampling_heights_means_total, 97.5)\n",
    "print(\"Bootstrapped 95% confidence interval for total tournament teams =\", (bootstrap_tourney_heights_ci_l_total, bootstrap_tourney_heights_ci_r_total))"
   ]
  },
  {
   "cell_type": "code",
   "execution_count": 53,
   "metadata": {
    "scrolled": true
   },
   "outputs": [
    {
     "name": "stdout",
     "output_type": "stream",
     "text": [
      "Bootstrapped 95% confidence interval for totaln non-tournament teams = (76.60473494595986, 76.68605249614)\n"
     ]
    }
   ],
   "source": [
    "# Bootstrapping for total non-tournament teams\n",
    "\n",
    "np.random.seed(703)\n",
    "nontourney_bootstrap_heights_samples_total = np.random.choice(nontournament_heights_total, size = (num_bootstraps, len(nontournament_heights_total)), replace = True)\n",
    "nontourney_sampling_heights_means_total = np.average(nontourney_bootstrap_heights_samples_total, axis=1)\n",
    "bootstrap_nontourney_heights_ci_l_total = np.percentile(nontourney_sampling_heights_means_total, 2.5)\n",
    "bootstrap_nontourney_heights_ci_r_total = np.percentile(nontourney_sampling_heights_means_total, 97.5)\n",
    "print(\"Bootstrapped 95% confidence interval for totaln non-tournament teams =\", (bootstrap_nontourney_heights_ci_l_total, bootstrap_nontourney_heights_ci_r_total))"
   ]
  },
  {
   "cell_type": "markdown",
   "metadata": {},
   "source": [
    "Overall, we are 95% confident that the true mean height of tournament teams, in inches, is between 77.16 and 77.32. We are also 95% confident that the true mean height of non-tournament teams, in inches, is between 76.60 and 76.69."
   ]
  },
  {
   "cell_type": "markdown",
   "metadata": {},
   "source": [
    "## Overall Team Average Experience\n",
    "All years combined"
   ]
  },
  {
   "cell_type": "code",
   "execution_count": 54,
   "metadata": {},
   "outputs": [],
   "source": [
    "tournament_exp_total = tournament_exp13 + tournament_exp14 + tournament_exp15 + tournament_exp16 + tournament_exp17 + tournament_exp18 + tournament_exp19\n",
    "nontournament_exp_total = nontournament_exp13 + nontournament_exp14 + nontournament_exp15 + nontournament_exp16 + nontournament_exp17 + nontournament_exp18 + nontournament_exp19"
   ]
  },
  {
   "cell_type": "code",
   "execution_count": 55,
   "metadata": {},
   "outputs": [
    {
     "name": "stdout",
     "output_type": "stream",
     "text": [
      "Bootstrapped 95% confidence interval for total tournament teams = (1.5704255319148934, 1.6436170212765957)\n"
     ]
    }
   ],
   "source": [
    "# Bootstrapping for total tournament teams\n",
    "\n",
    "np.random.seed(703)\n",
    "tourney_bootstrap_exp_samples_total = np.random.choice(tournament_exp_total, size = (num_bootstraps, len(tournament_exp_total)), replace = True)\n",
    "tourney_sampling_exp_means_total = np.average(tourney_bootstrap_exp_samples_total, axis=1)\n",
    "bootstrap_tourney_exp_ci_l_total = np.percentile(tourney_sampling_exp_means_total, 2.5)\n",
    "bootstrap_tourney_exp_ci_r_total = np.percentile(tourney_sampling_exp_means_total, 97.5)\n",
    "print(\"Bootstrapped 95% confidence interval for total tournament teams =\", (bootstrap_tourney_exp_ci_l_total, bootstrap_tourney_exp_ci_r_total))"
   ]
  },
  {
   "cell_type": "code",
   "execution_count": 56,
   "metadata": {},
   "outputs": [
    {
     "name": "stdout",
     "output_type": "stream",
     "text": [
      "Bootstrapped 95% confidence interval for total non-tournament teams = (1.3595985589294903, 1.3963458569222853)\n"
     ]
    }
   ],
   "source": [
    "# Bootstrapping for total non-tournament teams\n",
    "\n",
    "np.random.seed(703)\n",
    "nontourney_bootstrap_exp_samples_total = np.random.choice(nontournament_exp_total, size = (num_bootstraps, len(nontournament_exp_total)), replace = True)\n",
    "nontourney_sampling_exp_means_total = np.average(nontourney_bootstrap_exp_samples_total, axis=1)\n",
    "bootstrap_nontourney_exp_ci_l_total = np.percentile(nontourney_sampling_exp_means_total, 2.5)\n",
    "bootstrap_nontourney_exp_ci_r_total = np.percentile(nontourney_sampling_exp_means_total, 97.5)\n",
    "print(\"Bootstrapped 95% confidence interval for total non-tournament teams =\", (bootstrap_nontourney_exp_ci_l_total, bootstrap_nontourney_exp_ci_r_total))"
   ]
  },
  {
   "cell_type": "markdown",
   "metadata": {},
   "source": [
    "Overall, we are 95% confident that the true mean average experience of tournament teams is between 1.57 and 1.64. We are also 95% confident that the true mean average experience of non-tournament teams is between 1.36 and 1.40."
   ]
  },
  {
   "cell_type": "markdown",
   "metadata": {},
   "source": [
    "## Hypothesis Tests"
   ]
  },
  {
   "cell_type": "code",
   "execution_count": 57,
   "metadata": {},
   "outputs": [
    {
     "data": {
      "text/plain": [
       "Ttest_indResult(statistic=12.64635080874502, pvalue=1.5349844336210725e-35)"
      ]
     },
     "execution_count": 57,
     "metadata": {},
     "output_type": "execute_result"
    }
   ],
   "source": [
    "tourney_mean = np.mean(tournament_heights_total)\n",
    "nontourney_mean = np.mean(nontournament_heights_total)\n",
    "\n",
    "tourney_sd = np.std(tournament_heights_total)\n",
    "nontourney_sd = np.std(nontournament_heights_total)\n",
    "\n",
    "tourney_n = len(tournament_heights_total)\n",
    "nontourney_n = len(nontournament_heights_total)\n",
    "\n",
    "stats.ttest_ind_from_stats(mean1 = tourney_mean, std1 = tourney_sd, nobs1 = tourney_n, \n",
    "                           mean2 = nontourney_mean, std2 = nontourney_sd, nobs2 = nontourney_n)"
   ]
  },
  {
   "cell_type": "markdown",
   "metadata": {},
   "source": [
    "The results of the two-sided hypothesis test above, in which we calculated a $p$-value of $1.53 \\times 10^{-35}$, tells us that there is statistically significant evidence to reject the null hypothesis that the mean height for tournament teams and non-tournament teams is the same. Thus, we can say that there is a statistically-significant difference between these two means."
   ]
  },
  {
   "cell_type": "code",
   "execution_count": 58,
   "metadata": {},
   "outputs": [
    {
     "data": {
      "text/plain": [
       "Ttest_indResult(statistic=10.679321140523161, pvalue=4.8125085652985653e-26)"
      ]
     },
     "execution_count": 58,
     "metadata": {},
     "output_type": "execute_result"
    }
   ],
   "source": [
    "tourney_exp_mean = np.mean(tournament_exp_total)\n",
    "nontourney_exp_mean = np.mean(nontournament_exp_total)\n",
    "\n",
    "tourney_exp_sd = np.std(tournament_exp_total)\n",
    "nontourney_exp_sd = np.std(nontournament_exp_total)\n",
    "\n",
    "tourney_exp_n = len(tournament_exp_total)\n",
    "nontourney_exp_n = len(nontournament_exp_total)\n",
    "\n",
    "stats.ttest_ind_from_stats(mean1 = tourney_exp_mean, std1 = tourney_exp_sd, nobs1 = tourney_exp_n, \n",
    "                           mean2 = nontourney_exp_mean, std2 = nontourney_exp_sd, nobs2 = nontourney_exp_n)"
   ]
  },
  {
   "cell_type": "markdown",
   "metadata": {},
   "source": [
    "The results of the two-sided hypothesis test above, in which we calculated a $p$-value of $4.81 \\times 10^{-26}$, tells us that there is statistically significant evidence to reject the null hypothesis that the mean average experience for tournament teams and non-tournament teams is the same. Thus, we can say that there is a statistically-significant difference between these two means."
   ]
  },
  {
   "cell_type": "markdown",
   "metadata": {},
   "source": [
    "# Conclusions\n",
    "\n",
    "Given that there is no overlap in the 95% confidence intervals for the mean height and mean average experience of tournament teams vs. non-tournament teams for all years combined, we can conclude that there is statistically significant evidence that tournament teams are, on average, taller and more experienced than teams that did not make the tournament. This overall finding is supported when looking at the individual years, as well, with one exception in the 2016 height category.\n",
    "\n",
    "Further, the hypothesis tests that we conducted above prove that we have statistically-significant evidence to say that the mean height and mean average experience of tournament teams vs. non-tournament teams is different, and our confidence intervals show us that tournament teams are, on average, taller and more experienced."
   ]
  }
 ],
 "metadata": {
  "kernelspec": {
   "display_name": "Python 3",
   "language": "python",
   "name": "python3"
  },
  "language_info": {
   "codemirror_mode": {
    "name": "ipython",
    "version": 3
   },
   "file_extension": ".py",
   "mimetype": "text/x-python",
   "name": "python",
   "nbconvert_exporter": "python",
   "pygments_lexer": "ipython3",
   "version": "3.8.5"
  }
 },
 "nbformat": 4,
 "nbformat_minor": 4
}
