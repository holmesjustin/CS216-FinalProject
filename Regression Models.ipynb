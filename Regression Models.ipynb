{
 "cells": [
  {
   "cell_type": "code",
   "execution_count": 1,
   "metadata": {},
   "outputs": [],
   "source": [
    "import numpy as np\n",
    "import pandas as pd\n",
    "from sklearn.linear_model import LinearRegression\n",
    "from sklearn.metrics import mean_squared_error\n",
    "from sklearn.metrics import r2_score\n",
    "from sklearn.linear_model import LassoLarsIC\n",
    "from sklearn.linear_model import LogisticRegression\n",
    "from sklearn.preprocessing import OneHotEncoder\n",
    "from sklearn.metrics import accuracy_score\n",
    "from sklearn.metrics import plot_confusion_matrix\n",
    "from sklearn import metrics"
   ]
  },
  {
   "cell_type": "markdown",
   "metadata": {},
   "source": [
    "# Predicting BARTHAG"
   ]
  },
  {
   "cell_type": "code",
   "execution_count": 2,
   "metadata": {
    "scrolled": false
   },
   "outputs": [
    {
     "data": {
      "text/html": [
       "<div>\n",
       "<style scoped>\n",
       "    .dataframe tbody tr th:only-of-type {\n",
       "        vertical-align: middle;\n",
       "    }\n",
       "\n",
       "    .dataframe tbody tr th {\n",
       "        vertical-align: top;\n",
       "    }\n",
       "\n",
       "    .dataframe thead th {\n",
       "        text-align: right;\n",
       "    }\n",
       "</style>\n",
       "<table border=\"1\" class=\"dataframe\">\n",
       "  <thead>\n",
       "    <tr style=\"text-align: right;\">\n",
       "      <th></th>\n",
       "      <th>TEAM</th>\n",
       "      <th>CONF</th>\n",
       "      <th>G</th>\n",
       "      <th>W</th>\n",
       "      <th>ADJOE</th>\n",
       "      <th>ADJDE</th>\n",
       "      <th>BARTHAG</th>\n",
       "      <th>EFG_O</th>\n",
       "      <th>EFG_D</th>\n",
       "      <th>TOR</th>\n",
       "      <th>...</th>\n",
       "      <th>FTRD</th>\n",
       "      <th>2P_O</th>\n",
       "      <th>2P_D</th>\n",
       "      <th>3P_O</th>\n",
       "      <th>3P_D</th>\n",
       "      <th>ADJ_T</th>\n",
       "      <th>WAB</th>\n",
       "      <th>POSTSEASON</th>\n",
       "      <th>SEED</th>\n",
       "      <th>YEAR</th>\n",
       "    </tr>\n",
       "  </thead>\n",
       "  <tbody>\n",
       "    <tr>\n",
       "      <th>0</th>\n",
       "      <td>North Carolina</td>\n",
       "      <td>ACC</td>\n",
       "      <td>40</td>\n",
       "      <td>33</td>\n",
       "      <td>123.3</td>\n",
       "      <td>94.9</td>\n",
       "      <td>0.9531</td>\n",
       "      <td>52.6</td>\n",
       "      <td>48.1</td>\n",
       "      <td>15.4</td>\n",
       "      <td>...</td>\n",
       "      <td>30.4</td>\n",
       "      <td>53.9</td>\n",
       "      <td>44.6</td>\n",
       "      <td>32.7</td>\n",
       "      <td>36.2</td>\n",
       "      <td>71.7</td>\n",
       "      <td>8.6</td>\n",
       "      <td>2ND</td>\n",
       "      <td>1.0</td>\n",
       "      <td>2016</td>\n",
       "    </tr>\n",
       "    <tr>\n",
       "      <th>1</th>\n",
       "      <td>Wisconsin</td>\n",
       "      <td>B10</td>\n",
       "      <td>40</td>\n",
       "      <td>36</td>\n",
       "      <td>129.1</td>\n",
       "      <td>93.6</td>\n",
       "      <td>0.9758</td>\n",
       "      <td>54.8</td>\n",
       "      <td>47.7</td>\n",
       "      <td>12.4</td>\n",
       "      <td>...</td>\n",
       "      <td>22.4</td>\n",
       "      <td>54.8</td>\n",
       "      <td>44.7</td>\n",
       "      <td>36.5</td>\n",
       "      <td>37.5</td>\n",
       "      <td>59.3</td>\n",
       "      <td>11.3</td>\n",
       "      <td>2ND</td>\n",
       "      <td>1.0</td>\n",
       "      <td>2015</td>\n",
       "    </tr>\n",
       "    <tr>\n",
       "      <th>2</th>\n",
       "      <td>Michigan</td>\n",
       "      <td>B10</td>\n",
       "      <td>40</td>\n",
       "      <td>33</td>\n",
       "      <td>114.4</td>\n",
       "      <td>90.4</td>\n",
       "      <td>0.9375</td>\n",
       "      <td>53.9</td>\n",
       "      <td>47.7</td>\n",
       "      <td>14.0</td>\n",
       "      <td>...</td>\n",
       "      <td>30.0</td>\n",
       "      <td>54.7</td>\n",
       "      <td>46.8</td>\n",
       "      <td>35.2</td>\n",
       "      <td>33.2</td>\n",
       "      <td>65.9</td>\n",
       "      <td>6.9</td>\n",
       "      <td>2ND</td>\n",
       "      <td>3.0</td>\n",
       "      <td>2018</td>\n",
       "    </tr>\n",
       "    <tr>\n",
       "      <th>3</th>\n",
       "      <td>Texas Tech</td>\n",
       "      <td>B12</td>\n",
       "      <td>38</td>\n",
       "      <td>31</td>\n",
       "      <td>115.2</td>\n",
       "      <td>85.2</td>\n",
       "      <td>0.9696</td>\n",
       "      <td>53.5</td>\n",
       "      <td>43.0</td>\n",
       "      <td>17.7</td>\n",
       "      <td>...</td>\n",
       "      <td>36.6</td>\n",
       "      <td>52.8</td>\n",
       "      <td>41.9</td>\n",
       "      <td>36.5</td>\n",
       "      <td>29.7</td>\n",
       "      <td>67.5</td>\n",
       "      <td>7.0</td>\n",
       "      <td>2ND</td>\n",
       "      <td>3.0</td>\n",
       "      <td>2019</td>\n",
       "    </tr>\n",
       "    <tr>\n",
       "      <th>4</th>\n",
       "      <td>Gonzaga</td>\n",
       "      <td>WCC</td>\n",
       "      <td>39</td>\n",
       "      <td>37</td>\n",
       "      <td>117.8</td>\n",
       "      <td>86.3</td>\n",
       "      <td>0.9728</td>\n",
       "      <td>56.6</td>\n",
       "      <td>41.1</td>\n",
       "      <td>16.2</td>\n",
       "      <td>...</td>\n",
       "      <td>26.9</td>\n",
       "      <td>56.3</td>\n",
       "      <td>40.0</td>\n",
       "      <td>38.2</td>\n",
       "      <td>29.0</td>\n",
       "      <td>71.5</td>\n",
       "      <td>7.7</td>\n",
       "      <td>2ND</td>\n",
       "      <td>1.0</td>\n",
       "      <td>2017</td>\n",
       "    </tr>\n",
       "  </tbody>\n",
       "</table>\n",
       "<p>5 rows × 24 columns</p>\n",
       "</div>"
      ],
      "text/plain": [
       "             TEAM CONF   G   W  ADJOE  ADJDE  BARTHAG  EFG_O  EFG_D   TOR  \\\n",
       "0  North Carolina  ACC  40  33  123.3   94.9   0.9531   52.6   48.1  15.4   \n",
       "1       Wisconsin  B10  40  36  129.1   93.6   0.9758   54.8   47.7  12.4   \n",
       "2        Michigan  B10  40  33  114.4   90.4   0.9375   53.9   47.7  14.0   \n",
       "3      Texas Tech  B12  38  31  115.2   85.2   0.9696   53.5   43.0  17.7   \n",
       "4         Gonzaga  WCC  39  37  117.8   86.3   0.9728   56.6   41.1  16.2   \n",
       "\n",
       "   ...  FTRD  2P_O  2P_D  3P_O  3P_D  ADJ_T   WAB  POSTSEASON  SEED  YEAR  \n",
       "0  ...  30.4  53.9  44.6  32.7  36.2   71.7   8.6         2ND   1.0  2016  \n",
       "1  ...  22.4  54.8  44.7  36.5  37.5   59.3  11.3         2ND   1.0  2015  \n",
       "2  ...  30.0  54.7  46.8  35.2  33.2   65.9   6.9         2ND   3.0  2018  \n",
       "3  ...  36.6  52.8  41.9  36.5  29.7   67.5   7.0         2ND   3.0  2019  \n",
       "4  ...  26.9  56.3  40.0  38.2  29.0   71.5   7.7         2ND   1.0  2017  \n",
       "\n",
       "[5 rows x 24 columns]"
      ]
     },
     "execution_count": 2,
     "metadata": {},
     "output_type": "execute_result"
    }
   ],
   "source": [
    "cbb = pd.read_csv(\"Kaggle Datasets/cbb.csv\")\n",
    "cbb21 = pd.read_csv(\"Kaggle Datasets/cbb21.csv\")\n",
    "cbb.head()"
   ]
  },
  {
   "cell_type": "code",
   "execution_count": 3,
   "metadata": {},
   "outputs": [
    {
     "data": {
      "text/plain": [
       "Index(['TEAM', 'CONF', 'G', 'W', 'ADJOE', 'ADJDE', 'BARTHAG', 'EFG_O', 'EFG_D',\n",
       "       'TOR', 'TORD', 'ORB', 'DRB', 'FTR', 'FTRD', '2P_O', '2P_D', '3P_O',\n",
       "       '3P_D', 'ADJ_T', 'WAB', 'POSTSEASON', 'SEED', 'YEAR'],\n",
       "      dtype='object')"
      ]
     },
     "execution_count": 3,
     "metadata": {},
     "output_type": "execute_result"
    }
   ],
   "source": [
    "cbb.columns"
   ]
  },
  {
   "cell_type": "code",
   "execution_count": 4,
   "metadata": {
    "scrolled": true
   },
   "outputs": [
    {
     "name": "stdout",
     "output_type": "stream",
     "text": [
      "[ 0.02946684 -0.0304741  -0.03705977  0.02038228  0.01462036 -0.00994642\n",
      "  0.00241952 -0.00497243  0.         -0.00695018  0.          0.\n",
      "  0.        ]\n"
     ]
    }
   ],
   "source": [
    "data = cbb[[\"EFG_O\", \"EFG_D\",\"TOR\",\"TORD\", \"ORB\", \"DRB\", \"FTR\", \"FTRD\",\n",
    "           \"2P_O\", \"2P_D\", \"3P_O\", \"3P_D\", \"ADJ_T\"]].values\n",
    "target = cbb[\"BARTHAG\"].values\n",
    "\n",
    "model = LassoLarsIC(criterion=\"aic\")\n",
    "\n",
    "model.fit(data,target)\n",
    "\n",
    "print(model.coef_)"
   ]
  },
  {
   "cell_type": "code",
   "execution_count": 5,
   "metadata": {
    "scrolled": true
   },
   "outputs": [
    {
     "name": "stdout",
     "output_type": "stream",
     "text": [
      "MSE: 0.014538782203080686 r^2: 0.7784876313084791\n"
     ]
    }
   ],
   "source": [
    "data = cbb[[\"EFG_O\", \"EFG_D\", \"TOR\", \"TORD\", \"ORB\", \"DRB\", \"FTR\", \"FTRD\", \"2P_D\"]].values\n",
    "target = cbb[\"BARTHAG\"].values\n",
    "\n",
    "linear_model = LinearRegression()\n",
    "linear_model.fit(X = data, y = target)\n",
    "\n",
    "cbb[\"predicted_BARTHAG\"] = linear_model.predict(data)\n",
    "\n",
    "print(\"MSE:\", mean_squared_error(cbb[\"BARTHAG\"].values, cbb[\"predicted_BARTHAG\"].values),\n",
    "     \"r^2:\", r2_score(cbb[\"BARTHAG\"].values, cbb[\"predicted_BARTHAG\"].values))"
   ]
  },
  {
   "cell_type": "code",
   "execution_count": 6,
   "metadata": {},
   "outputs": [
    {
     "name": "stdout",
     "output_type": "stream",
     "text": [
      "MSE: 0.02776715044451665 r^2: 0.5847538771237473\n"
     ]
    }
   ],
   "source": [
    "test_data_barthag = cbb21[[\"EFG_O\", \"EFG_D\", \"TOR\", \"TORD\", \"ORB\", \"DRB\", \"FTR\", \"FTRD\", \"2P_D\"]].values\n",
    "test_target_barthag = cbb21[\"BARTHAG\"].values\n",
    "\n",
    "cbb21[\"predicted_BARTHAG\"] = linear_model.predict(test_data_barthag)\n",
    "\n",
    "print(\"MSE:\", mean_squared_error(cbb21[\"BARTHAG\"].values, cbb21[\"predicted_BARTHAG\"].values),\n",
    "     \"r^2:\", r2_score(cbb21[\"BARTHAG\"].values, cbb21[\"predicted_BARTHAG\"].values))"
   ]
  },
  {
   "cell_type": "code",
   "execution_count": 7,
   "metadata": {},
   "outputs": [
    {
     "data": {
      "text/html": [
       "<div>\n",
       "<style scoped>\n",
       "    .dataframe tbody tr th:only-of-type {\n",
       "        vertical-align: middle;\n",
       "    }\n",
       "\n",
       "    .dataframe tbody tr th {\n",
       "        vertical-align: top;\n",
       "    }\n",
       "\n",
       "    .dataframe thead th {\n",
       "        text-align: right;\n",
       "    }\n",
       "</style>\n",
       "<table border=\"1\" class=\"dataframe\">\n",
       "  <thead>\n",
       "    <tr style=\"text-align: right;\">\n",
       "      <th></th>\n",
       "      <th>TEAM</th>\n",
       "      <th>BARTHAG</th>\n",
       "      <th>predicted_BARTHAG</th>\n",
       "    </tr>\n",
       "  </thead>\n",
       "  <tbody>\n",
       "    <tr>\n",
       "      <th>0</th>\n",
       "      <td>Michigan</td>\n",
       "      <td>0.9521</td>\n",
       "      <td>0.953402</td>\n",
       "    </tr>\n",
       "    <tr>\n",
       "      <th>1</th>\n",
       "      <td>Baylor</td>\n",
       "      <td>0.9548</td>\n",
       "      <td>1.032003</td>\n",
       "    </tr>\n",
       "    <tr>\n",
       "      <th>2</th>\n",
       "      <td>Illinois</td>\n",
       "      <td>0.9539</td>\n",
       "      <td>0.928008</td>\n",
       "    </tr>\n",
       "    <tr>\n",
       "      <th>3</th>\n",
       "      <td>Gonzaga</td>\n",
       "      <td>0.9791</td>\n",
       "      <td>1.186994</td>\n",
       "    </tr>\n",
       "    <tr>\n",
       "      <th>4</th>\n",
       "      <td>Iowa</td>\n",
       "      <td>0.9491</td>\n",
       "      <td>0.953969</td>\n",
       "    </tr>\n",
       "  </tbody>\n",
       "</table>\n",
       "</div>"
      ],
      "text/plain": [
       "       TEAM  BARTHAG  predicted_BARTHAG\n",
       "0  Michigan   0.9521           0.953402\n",
       "1    Baylor   0.9548           1.032003\n",
       "2  Illinois   0.9539           0.928008\n",
       "3   Gonzaga   0.9791           1.186994\n",
       "4      Iowa   0.9491           0.953969"
      ]
     },
     "execution_count": 7,
     "metadata": {},
     "output_type": "execute_result"
    }
   ],
   "source": [
    "cbb21[[\"TEAM\", \"BARTHAG\", \"predicted_BARTHAG\"]].head()"
   ]
  },
  {
   "cell_type": "markdown",
   "metadata": {},
   "source": [
    "## Results\n",
    "\n",
    "We wanted to use the statistics from the Kaggle `cbb` dataset, which contains compiled NCAA basketball team data from 2013-2019, to help predict `BARTHAG` rating, which is a college basketball team's chance or probability of beating an average DI team. Given that adjusted offence, `ADJOE`, and adjusted defense, `ADJDE`, influence `BARTHAG` directly, we eliminated these as potential predictors. Unsure of what other predictors would help the model efficiently yield the highest $r^2$ value, we used `sklearn`'s LassoLarsIC object to find what combination would produce the lowest Akaike Information Criterion, or AIC, which helped us find the best fit model, or the model that explains the greatest amount of variation in the response variable using the fewest possible explanatory variables.\n",
    "\n",
    "From there, the best identified explanatory variables were `EFG_O`, `EFG_D`, `TOR`, `TORD`, `ORB`, `DRB`, `FTR`, `FTRD`, and `2P_D`. We used these predictors to fit a linear regression model to our dataset, from which we observed an $r^2$ value of 0.778. This value indicates that 77.8% of the variation in `BARTHAG` scores can be explained by our model, which is a decently high percentage and suggests a successful model.\n",
    "\n",
    "After fitting a model to the 2013-2019 data, we decided to test it on the 2021 data, which was taken from this year's season. The reason we did this is that it we believed it would be a good evaluation of our model, as the values in this dataset are completely separate from those that we used to train, so we can better understand whether this model is truly a good predictor of BARTHAG scores.\n",
    "\n",
    "The results from testing our model on this year's data yielded an $r^2$ value of 0.585, which means that just over half of the variation in 2021 BARTHAG ratings can be explained by our model. This indicates that our model might not be the best predictor of BARTHAG scores, as it does not extrapolate well beyond the training data. Future explorations, beyond the scope of this project, could focus on finding a better model for BARTHAG scores."
   ]
  },
  {
   "cell_type": "markdown",
   "metadata": {},
   "source": [
    "# Predicting Tournament Entry"
   ]
  },
  {
   "cell_type": "code",
   "execution_count": 8,
   "metadata": {},
   "outputs": [],
   "source": [
    "cbb[\"in_postseason\"] = 0\n",
    "cbb.loc[cbb[\"POSTSEASON\"].notna(), \"in_postseason\"] = 1"
   ]
  },
  {
   "cell_type": "code",
   "execution_count": 9,
   "metadata": {},
   "outputs": [
    {
     "name": "stdout",
     "output_type": "stream",
     "text": [
      "Classification accuracy: 0.9209775967413442\n"
     ]
    },
    {
     "data": {
      "text/plain": [
       "<sklearn.metrics._plot.confusion_matrix.ConfusionMatrixDisplay at 0x7fb9a1d3ad90>"
      ]
     },
     "execution_count": 9,
     "metadata": {},
     "output_type": "execute_result"
    },
    {
     "data": {
      "image/png": "[encoded data removed]",
      "text/plain": [
       "<Figure size 432x288 with 2 Axes>"
      ]
     },
     "metadata": {
      "needs_background": "light"
     },
     "output_type": "display_data"
    }
   ],
   "source": [
    "data = cbb[['ADJOE', 'ADJDE', 'BARTHAG', 'EFG_O', 'EFG_D',\n",
    "       'TOR', 'TORD', 'ORB', 'DRB', 'FTR', 'FTRD', '2P_O', '2P_D', '3P_O',\n",
    "       '3P_D', 'ADJ_T', 'WAB']].values\n",
    "target = cbb[\"in_postseason\"].values\n",
    "\n",
    "logistic_model = LogisticRegression(max_iter = 1000)\n",
    "logistic_model.fit(X = data, y = target)\n",
    "cbb[\"predicted_in_postseason\"] = logistic_model.predict(data)\n",
    "\n",
    "print(\"Classification accuracy:\", logistic_model.score(data, target))\n",
    "metrics.plot_confusion_matrix(logistic_model, data, target)"
   ]
  },
  {
   "cell_type": "code",
   "execution_count": 10,
   "metadata": {},
   "outputs": [],
   "source": [
    "cbb21[\"in_postseason\"] = 0\n",
    "cbb21.loc[cbb21[\"SEED\"].notna(), \"in_postseason\"] = 1"
   ]
  },
  {
   "cell_type": "code",
   "execution_count": 11,
   "metadata": {
    "scrolled": true
   },
   "outputs": [
    {
     "name": "stdout",
     "output_type": "stream",
     "text": [
      "Classification accuracy: 0.9193083573487032\n"
     ]
    },
    {
     "data": {
      "text/plain": [
       "<sklearn.metrics._plot.confusion_matrix.ConfusionMatrixDisplay at 0x7fb99d177a00>"
      ]
     },
     "execution_count": 11,
     "metadata": {},
     "output_type": "execute_result"
    },
    {
     "data": {
      "image/png": "[encoded data removed]",
      "text/plain": [
       "<Figure size 432x288 with 2 Axes>"
      ]
     },
     "metadata": {
      "needs_background": "light"
     },
     "output_type": "display_data"
    }
   ],
   "source": [
    "test_data = cbb21[['ADJOE', 'ADJDE', 'BARTHAG', 'EFG_O', 'EFG_D',\n",
    "       'TOR', 'TORD', 'ORB', 'DRB', 'FTR', 'FTRD', '2P_O', '2P_D', '3P_O',\n",
    "       '3P_D', 'ADJ_T', 'WAB']].values\n",
    "test_target = cbb21[\"in_postseason\"].values\n",
    "\n",
    "cbb21[\"predicted_tournament\"] = logistic_model.predict(test_data)\n",
    "\n",
    "cbb21[\"prob_tournament\"] = logistic_model.predict_proba(test_data)[:,1]\n",
    "\n",
    "print(\"Classification accuracy:\", accuracy_score(test_target, logistic_model.predict(test_data)))\n",
    "plot_confusion_matrix(logistic_model, test_data, test_target)"
   ]
  },
  {
   "cell_type": "code",
   "execution_count": 12,
   "metadata": {},
   "outputs": [
    {
     "data": {
      "text/html": [
       "<div>\n",
       "<style scoped>\n",
       "    .dataframe tbody tr th:only-of-type {\n",
       "        vertical-align: middle;\n",
       "    }\n",
       "\n",
       "    .dataframe tbody tr th {\n",
       "        vertical-align: top;\n",
       "    }\n",
       "\n",
       "    .dataframe thead th {\n",
       "        text-align: right;\n",
       "    }\n",
       "</style>\n",
       "<table border=\"1\" class=\"dataframe\">\n",
       "  <thead>\n",
       "    <tr style=\"text-align: right;\">\n",
       "      <th></th>\n",
       "      <th>TEAM</th>\n",
       "      <th>CONF</th>\n",
       "      <th>G</th>\n",
       "      <th>W</th>\n",
       "      <th>ADJOE</th>\n",
       "      <th>ADJDE</th>\n",
       "      <th>BARTHAG</th>\n",
       "      <th>EFG_O</th>\n",
       "      <th>EFG_D</th>\n",
       "      <th>TOR</th>\n",
       "      <th>...</th>\n",
       "      <th>2P_D</th>\n",
       "      <th>3P_O</th>\n",
       "      <th>3P_D</th>\n",
       "      <th>ADJ_T</th>\n",
       "      <th>WAB</th>\n",
       "      <th>SEED</th>\n",
       "      <th>predicted_BARTHAG</th>\n",
       "      <th>in_postseason</th>\n",
       "      <th>predicted_tournament</th>\n",
       "      <th>prob_tournament</th>\n",
       "    </tr>\n",
       "  </thead>\n",
       "  <tbody>\n",
       "    <tr>\n",
       "      <th>258</th>\n",
       "      <td>Duke</td>\n",
       "      <td>ACC</td>\n",
       "      <td>24</td>\n",
       "      <td>13</td>\n",
       "      <td>115.1</td>\n",
       "      <td>97.1</td>\n",
       "      <td>0.8758</td>\n",
       "      <td>53.7</td>\n",
       "      <td>51.3</td>\n",
       "      <td>18.3</td>\n",
       "      <td>...</td>\n",
       "      <td>50.4</td>\n",
       "      <td>35.1</td>\n",
       "      <td>35.5</td>\n",
       "      <td>68.5</td>\n",
       "      <td>-1.8</td>\n",
       "      <td>NaN</td>\n",
       "      <td>0.632681</td>\n",
       "      <td>0</td>\n",
       "      <td>0</td>\n",
       "      <td>0.163342</td>\n",
       "    </tr>\n",
       "    <tr>\n",
       "      <th>346</th>\n",
       "      <td>Belmont</td>\n",
       "      <td>OVC</td>\n",
       "      <td>29</td>\n",
       "      <td>26</td>\n",
       "      <td>108.5</td>\n",
       "      <td>101.6</td>\n",
       "      <td>0.6786</td>\n",
       "      <td>56.3</td>\n",
       "      <td>49.3</td>\n",
       "      <td>16.6</td>\n",
       "      <td>...</td>\n",
       "      <td>48.2</td>\n",
       "      <td>34.7</td>\n",
       "      <td>34.0</td>\n",
       "      <td>71.1</td>\n",
       "      <td>-1.1</td>\n",
       "      <td>NaN</td>\n",
       "      <td>0.843017</td>\n",
       "      <td>0</td>\n",
       "      <td>1</td>\n",
       "      <td>0.605791</td>\n",
       "    </tr>\n",
       "  </tbody>\n",
       "</table>\n",
       "<p>2 rows × 26 columns</p>\n",
       "</div>"
      ],
      "text/plain": [
       "        TEAM CONF   G   W  ADJOE  ADJDE  BARTHAG  EFG_O  EFG_D   TOR  ...  \\\n",
       "258     Duke  ACC  24  13  115.1   97.1   0.8758   53.7   51.3  18.3  ...   \n",
       "346  Belmont  OVC  29  26  108.5  101.6   0.6786   56.3   49.3  16.6  ...   \n",
       "\n",
       "     2P_D  3P_O  3P_D  ADJ_T  WAB  SEED  predicted_BARTHAG  in_postseason  \\\n",
       "258  50.4  35.1  35.5   68.5 -1.8   NaN           0.632681              0   \n",
       "346  48.2  34.7  34.0   71.1 -1.1   NaN           0.843017              0   \n",
       "\n",
       "     predicted_tournament  prob_tournament  \n",
       "258                     0         0.163342  \n",
       "346                     1         0.605791  \n",
       "\n",
       "[2 rows x 26 columns]"
      ]
     },
     "execution_count": 12,
     "metadata": {},
     "output_type": "execute_result"
    }
   ],
   "source": [
    "cbb21[(cbb21[\"TEAM\"] == \"Duke\") | (cbb21[\"TEAM\"] == \"Belmont\")]"
   ]
  },
  {
   "cell_type": "markdown",
   "metadata": {},
   "source": [
    "## Results\n",
    "\n",
    "Using the `cbb` dataset, we created a binary categorial variable to denote whether or not a team made the NCAA tournament. We then trained a logistic regression model using the various statistics given in the dataset to predict tournament entry. Using our trained data, we had an accuracy score of 0.9209, which suggests that our model was successful in identifying the statistic of interest, at least among training data. \n",
    "\n",
    "We wanted to take our model a step further, and test it on data from the 2021 season, which resulted in an accuracy score of 0.9193, which suggests that our model remained accurate, even among new data.\n",
    "\n",
    "However, upon closer inspection, we identified a limitation of our model, which is the fact that it does not take into account quality of opponent, which is an important criterion for the real selection committee who decides which teams make the tournament. For example, we were curious about what Duke's predicted probability of making the tournament was based on our model, and we found it to be 0.16 — very low, considering that we were only a few teams away from making the tournament. Comparing this with Belmont, who also did not make the tournament but who was not in the conversation at all, our model falsely identified them as a tournament team, with a probability of making the tournament of 0.61. The only explanation here would be that Belmont recorded better or equal in less meaningful games, allowing our model to believe that they were a better team than Duke, which was not true.\n",
    "\n",
    "Overall, our model does a good job of predicting which teams make the tournament and which do not, but as we have pointed out, it is not perfect, and some form of \"strength of schedule\" would be needed to improve it further."
   ]
  }
 ],
 "metadata": {
  "kernelspec": {
   "display_name": "Python 3",
   "language": "python",
   "name": "python3"
  },
  "language_info": {
   "codemirror_mode": {
    "name": "ipython",
    "version": 3
   },
   "file_extension": ".py",
   "mimetype": "text/x-python",
   "name": "python",
   "nbconvert_exporter": "python",
   "pygments_lexer": "ipython3",
   "version": "3.8.5"
  }
 },
 "nbformat": 4,
 "nbformat_minor": 4
}
